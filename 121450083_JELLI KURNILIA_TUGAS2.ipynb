{
  "cells": [
    {
      "cell_type": "markdown",
      "metadata": {
        "id": "ZFnnRzziGmWJ"
      },
      "source": [
        "# Exercise 1: A Good first program"
      ]
    },
    {
      "cell_type": "markdown",
      "metadata": {
        "id": "W_1O34kUHJ-F"
      },
      "source": [
        "## Jelaskan maksud kode per baris"
      ]
    },
    {
      "cell_type": "code",
      "execution_count": null,
      "metadata": {
        "colab": {
          "base_uri": "https://localhost:8080/"
        },
        "id": "kUHhArx1GjDO",
        "outputId": "7e316722-f5f8-4c9c-d528-25e38b83a05a"
      },
      "outputs": [
        {
          "name": "stdout",
          "output_type": "stream",
          "text": [
            "Hello World!\n",
            "Hello Again\n",
            "I like typing this.\n",
            "This is fun.\n",
            "Yay! Printing.\n",
            "I'd much rather you 'not'.\n",
            "I \"said\" do not touch this.\n"
          ]
        }
      ],
      "source": [
        "print(\"Hello World!\") #perintah untuk menampilkan sintax yang outputnya Hello world!\n",
        "\n",
        "print(\"Hello Again\") #perintah untuk menampilkan sintax yang outputnya Hello Again\n",
        "print(\"I like typing this.\") #perintah untuk menampilkan sintax yang outputnya I like typing this\n",
        "print(\"This is fun.\") #perintah untuk menampilkan sintax yang outputnya This is fun\n",
        "print('Yay! Printing.') #perintah untuk menampilkan sintax yang outputnya Yay! Printing\n",
        "print(\"I'd much rather you 'not'.\") #perintah untuk menampilkan sintax yang outputnya I'd much rather you 'not'\n",
        "print('I \"said\" do not touch this.') #perintah untuk menampilkan sintax yang outputnya I \"said\" do not touch this!"
      ]
    },
    {
      "cell_type": "markdown",
      "metadata": {
        "id": "SF81PVAUHPeW"
      },
      "source": [
        "## Bagaimana cara supaya hanya mencetak baris pertama?"
      ]
    },
    {
      "cell_type": "code",
      "execution_count": null,
      "metadata": {
        "colab": {
          "base_uri": "https://localhost:8080/"
        },
        "id": "hnUARA6dHTgm",
        "outputId": "fbd0efcc-8efd-480d-d298-b57bb7c28068"
      },
      "outputs": [
        {
          "name": "stdout",
          "output_type": "stream",
          "text": [
            "Hello World!\n"
          ]
        }
      ],
      "source": [
        "print(\"Hello World!\") #menggunakan perintah print(\"sintax yang ingin dicetak\")"
      ]
    },
    {
      "cell_type": "markdown",
      "metadata": {
        "id": "dgYBT6dzHT5t"
      },
      "source": [
        "## Apakah fungsi dari simbol # (octothorpe)?"
      ]
    },
    {
      "cell_type": "code",
      "execution_count": null,
      "metadata": {
        "id": "eXsOtcaiHcN0"
      },
      "outputs": [],
      "source": [
        "# simbol tagar (octothorpe) dalam python berfungsi untuk menuliskan kementar,\n",
        "# dimana baris komentar yang tertulis tidak akan dimunculkan/dibaca oleh program (diabaikan python)"
      ]
    },
    {
      "cell_type": "markdown",
      "metadata": {
        "id": "M_KPDHSGHgo2"
      },
      "source": [
        "# Exercise 2: Comments and Pound Character\n"
      ]
    },
    {
      "cell_type": "markdown",
      "metadata": {
        "id": "h_plF8hhHgo2"
      },
      "source": [
        "## Jelaskan maksud kode per baris"
      ]
    },
    {
      "cell_type": "code",
      "execution_count": null,
      "metadata": {
        "colab": {
          "base_uri": "https://localhost:8080/"
        },
        "id": "sNJCAqkpHgo2",
        "outputId": "14eb4ff9-147d-4e46-c5e3-c7a826f7d447"
      },
      "outputs": [
        {
          "name": "stdout",
          "output_type": "stream",
          "text": [
            "I could have code like this.\n",
            "This will run.\n"
          ]
        }
      ],
      "source": [
        "# A comment, this is so you can read your program later.\n",
        "# Anything after the # is ignored by pyhton.\n",
        "\n",
        "#PERINTAH UNTUK MENAMPILKAN SINTAX YANG OUTPUTNYA I could have code like this\n",
        "print(\"I could have code like this.\")  # and the comment after is ignored\n",
        "\n",
        "# You can also use a comment to \"disable\" or comment out a piece of code:\n",
        "# print (\"This won't run.\")\n",
        "\n",
        "#PERINTAH UNTUK MENAMPILKAN SINTAX YANG OUTPUTNYA This will run\n",
        "print(\"This will run.\")"
      ]
    },
    {
      "cell_type": "markdown",
      "metadata": {
        "id": "lB26TUnSHgo2"
      },
      "source": [
        "## Bagaimana supaya kode pada baris 7 dapat dieksekusi? Jalankan kodenya!"
      ]
    },
    {
      "cell_type": "code",
      "execution_count": null,
      "metadata": {
        "colab": {
          "base_uri": "https://localhost:8080/"
        },
        "id": "zGht_qGdHgo3",
        "outputId": "ba97305f-a36a-4d05-a754-1eef57d60d90"
      },
      "outputs": [
        {
          "name": "stdout",
          "output_type": "stream",
          "text": [
            "This won't run.\n"
          ]
        }
      ],
      "source": [
        "# Baris ke 7 adalah #print (\"This won't run.\")\n",
        "#agar perintah tersebut dapat dieksekusi, kita hanya perlu menghapus tanda # (octothorpe) sebelum perintah print\n",
        "\n",
        "print (\"This won't run.\")\n"
      ]
    },
    {
      "cell_type": "markdown",
      "metadata": {
        "id": "3BWgtkrHHgo3"
      },
      "source": [
        "## Dimana saja simbol # (octothorpe) dapat digunakan? Berikan contoh!"
      ]
    },
    {
      "cell_type": "code",
      "execution_count": null,
      "metadata": {
        "id": "Nc5Nb3waHgo3"
      },
      "outputs": [],
      "source": [
        "#simbol octothorpe dalam python dapat digunakan dalam script Python yang tidak dieksekusi atau tidak dijalankan mesin.  \n",
        "#contoh\n",
        "#ini adalah sebuah komentar"
      ]
    },
    {
      "cell_type": "markdown",
      "metadata": {
        "id": "GnrqihmQIF_c"
      },
      "source": [
        "# Exercise 3: Numbers and Math\n"
      ]
    },
    {
      "cell_type": "markdown",
      "metadata": {
        "id": "4sIKJ-BGIF_d"
      },
      "source": [
        "## Jelaskan maksud kode per baris"
      ]
    },
    {
      "cell_type": "code",
      "execution_count": null,
      "metadata": {
        "colab": {
          "base_uri": "https://localhost:8080/"
        },
        "id": "jlw9cjunIF_d",
        "outputId": "94219ab8-0d2f-46ed-b9f0-0d9d76a65d2e"
      },
      "outputs": [
        {
          "name": "stdout",
          "output_type": "stream",
          "text": [
            "I will now count my chickens :\n",
            "Hens 30.0\n",
            "Roosters 97\n",
            "Now I will count the eggs:\n",
            "6.75\n",
            "Is it true that 3 + 2 < 5 - 7?\n",
            "False\n",
            "What is 3 + 2? 5\n",
            "What is 5 - 7? -2\n",
            "Oh, that's why it's false.\n",
            "How about some more.\n",
            "Is it greater? True\n",
            "Is it greater or equal? True\n",
            "Is it less or equal? False\n"
          ]
        }
      ],
      "source": [
        "print(\"I will now count my chickens :\") #menampilkan sintax program menghitung ayam\n",
        "print(\"Hens\", 25 + 30 / 6) #Menghitung Hens\n",
        "print(\"Roosters\", 100 - 25 * 3 % 4) #Menghitung Rooters\n",
        "print(\"Now I will count the eggs:\")#memerintahkan untuk menghitung telur \n",
        "print(3 + 2 + 1 - 5 + 4 % 2 - 1 / 4 + 6) #Kemudian lakukan perhitungan telur \n",
        "\n",
        "print(\"Is it true that 3 + 2 < 5 - 7?\")# menjalankan perintah untuk Memastikan apakah benar 3 + 2 < 5 - 7?\n",
        "\n",
        "print(3 + 2 < 5 -7) #menampilkan program dalam perhitungan\n",
        "print(\"What is 3 + 2?\", 3 + 2) #Tampilan ini menjelaskan perhitungan 3 + 2\n",
        "print(\"What is 5 - 7?\", 5 - 7)#Tampilan ini menjelaskan perhitungan 5 + 7\n",
        "\n",
        "print(\"Oh, that's why it's false.\")#Menginput penjelasan program \n",
        "print(\"How about some more.\")#Menginput penjelasan program\n",
        "\n",
        "print(\"Is it greater?\", 5 > -2)#Mencoba hasil perhitungan lain dengan output true or false\n",
        "print(\"Is it greater or equal?\", 5 >= -2)\n",
        "print(\"Is it less or equal?\", 5 <= -2)"
      ]
    },
    {
      "cell_type": "markdown",
      "metadata": {
        "id": "1JemeyZkIF_e"
      },
      "source": [
        "## Jelaskan maksud tiap simbol matematika ini, beri contohnya!\n",
        "This exercise has lots of math symbols. \n",
        "\n",
        "\n",
        "```\n",
        "+ plus\n",
        "- minus\n",
        "/ slash\n",
        "* asterisk\n",
        "% percent\n",
        "< less-than\n",
        "> greater-than\n",
        "<= less-than-equal\n",
        ">= greater-than-equal\n",
        "```\n",
        "\n"
      ]
    },
    {
      "cell_type": "code",
      "execution_count": null,
      "metadata": {
        "colab": {
          "base_uri": "https://localhost:8080/"
        },
        "id": "oV8ul5YhIF_e",
        "outputId": "f17e844f-387a-420e-ceaa-9789e450fb51"
      },
      "outputs": [
        {
          "name": "stdout",
          "output_type": "stream",
          "text": [
            "9\n",
            "1\n",
            "3.0\n",
            "2\n",
            "1\n",
            "True\n",
            "True\n",
            "False\n",
            "False\n"
          ]
        }
      ],
      "source": [
        "# + (plus) operasi penjumlahan\n",
        "print(5+4)\n",
        "\n",
        "# - (minus) operasi pengurangan\n",
        "print(5-4)\n",
        "\n",
        "# / (slash) operasi pembagian\n",
        "print(9/3)\n",
        "\n",
        "# * (asterisk) operasi perkalian\n",
        "print(2*1)\n",
        "\n",
        "# % (percent) operasi modulo atau sisa atau juga membuat persentase\n",
        "print(7 % 3)\n",
        "\n",
        "# < (less-than) bentuk pembuktian dari kurang dari\n",
        "print(5 < 7) #akan bernilai true\n",
        "\n",
        "# > (greater-than) bentuk pembuktian dari lebih dari\n",
        "print(8 > 6) #akan bernilai true\n",
        "\n",
        "# <= (less-than-equal) bentuk pembuktian dari kurang dari sama dengan\n",
        "print(5 <= 2) #akan bernilai false\n",
        "\n",
        "# >= (greater-than-equal) bentuk pembuktian dari lebih dari sama dengan\n",
        "print(3 >= 5) #akan bernilai false"
      ]
    },
    {
      "cell_type": "markdown",
      "metadata": {
        "id": "yjYucBkkIF_e"
      },
      "source": [
        "## Supaya lebih akurat, kita dapat menggunakan floating point. Edit baris 3 kode di atas sehingga tipe datanya menjadi float!"
      ]
    },
    {
      "cell_type": "code",
      "execution_count": null,
      "metadata": {
        "colab": {
          "base_uri": "https://localhost:8080/"
        },
        "id": "Vg6V61dfG2_s",
        "outputId": "1fee5ef3-c04e-4aec-84a6-42007d9f669c"
      },
      "outputs": [
        {
          "name": "stdout",
          "output_type": "stream",
          "text": [
            "Rosters 97.0\n"
          ]
        }
      ],
      "source": [
        "print(\"Rosters\",100 - 25 * 3.0 % 4) #tinggal mengubah nilai 3 menjadi 3.0 ataupun 4 menjadi 4.0"
      ]
    },
    {
      "cell_type": "markdown",
      "metadata": {
        "id": "3tMQgwybJMPH"
      },
      "source": [
        "# Exercise 4: Variables and Name\n",
        "\n"
      ]
    },
    {
      "cell_type": "markdown",
      "metadata": {
        "id": "1m2uU1tRJMPH"
      },
      "source": [
        "## Jelaskan maksud kode per baris"
      ]
    },
    {
      "cell_type": "code",
      "execution_count": null,
      "metadata": {
        "colab": {
          "base_uri": "https://localhost:8080/"
        },
        "id": "3-s1CdOpJMPI",
        "outputId": "fec6482a-eab8-4f79-f3cb-0f7e3661deaa"
      },
      "outputs": [
        {
          "name": "stdout",
          "output_type": "stream",
          "text": [
            "There are 100 cars available.\n",
            "There are only 30  drivers available.\n",
            "We can transport 120.0 people today.\n",
            "We have 90 tp carpoo; toda.\n",
            "We need to put about 3.0 in each car.\n"
          ]
        }
      ],
      "source": [
        "\n",
        "cars = 100 #Melakukan permisalan cars sebagai variable dari 100\n",
        "space_in_a_car = 4.0 #Melakukan permisalan space_in_a_car sebagai variable dari 4.0 sebagaimana #4.0 adalah float yang digunakan sebagai bilangan desimal.\n",
        "drivers = 30 #Melakukan permisalan drivers sebagai variable dari 30\n",
        "# passengers = 90 #Melakukan permisalan passengers sebagai variable dari 90\n",
        "cars_not_driven = cars - drivers #Menggunakan variable cars_not_driven untuk mengetahui jumlah cars yang tidak diketahui \n",
        "cars_driven = drivers #Bentuk persamaan cars_driven dan drivers\n",
        "# carpool_capacity = cars_driven * space_in_a_car #Operasi perkalian carpool_capacity, yaitu cars_driven * space_in_a_car\n",
        "average_passengers_per_car = passengers / cars_driven #Operasi pembagian average_passengers_per_car, yaitu passengers / cars_driven\n",
        "\n",
        "print(\"There are\", cars, \"cars available.\") \n",
        "print(\"There are only\", drivers, \" drivers available.\")\n",
        "print(\"We can transport\", carpool_capacity, \"people today.\")\n",
        "print(\"We have\", passengers, \"tp carpoo; toda.\")\n",
        "print(\"We need to put about\", average_passengers_per_car, \"in each car.\")"
      ]
    },
    {
      "cell_type": "markdown",
      "metadata": {
        "id": "UqP8fxwaJMPI"
      },
      "source": [
        "## Apakah kode di atas dapat dijalankan? Jika tidak, tolong perbaiki code di atas! \n",
        "\n"
      ]
    },
    {
      "cell_type": "code",
      "execution_count": null,
      "metadata": {
        "colab": {
          "base_uri": "https://localhost:8080/"
        },
        "id": "Q9PXAdCyJMPJ",
        "outputId": "f54bf11f-f53c-4df2-f5e2-8c44b3906ff6"
      },
      "outputs": [
        {
          "name": "stdout",
          "output_type": "stream",
          "text": [
            "There are 100 cars available.\n",
            "There are only 30 drivers available.\n",
            "There will be 70 empty cars today.\n",
            "We can transport 120.0 people today.\n",
            "We have 90 to carpool today.\n",
            "We need to put about 3.0 in each car\n"
          ]
        }
      ],
      "source": [
        "\n",
        "cars = 100\n",
        "space_in_a_car = 4.0\n",
        "drivers = 30\n",
        "passengers = 90 #di pengeksekusian sebelumnya (dalam jurnal modul), passenger masih berupa komen (#passengers=90) sehingga tidak terdefined\n",
        "cars_not_driven = cars - drivers #di pengeksekusian sebelumnya (dalam jurnal modul),cars_not_driven = cars - drivers masih berupa komen (#cars_not_driven = cars - drivers)\n",
        "cars_driven = drivers\n",
        "carpool_capacity = cars_driven * space_in_a_car\n",
        "average_passengers_per_car = passengers / cars_driven\n",
        "\n",
        "#kesimpulannya, pada sintax sebelumnya variabel passengers dan cars_not_driven = cars - drivers berlum terdefinisi sehingga tidak terbaca oleh python\n",
        "print(\"There are\", cars, \"cars available.\")\n",
        "print(\"There are only\", drivers, \"drivers available.\")\n",
        "print(\"There will be\", cars_not_driven, \"empty cars today.\")\n",
        "print(\"We can transport\", carpool_capacity, \"people today.\")\n",
        "print(\"We have\", passengers, \"to carpool today.\")\n",
        "print(\"We need to put about\", average_passengers_per_car, \"in each car\")"
      ]
    },
    {
      "cell_type": "markdown",
      "metadata": {
        "id": "YMqkQcohJMPJ"
      },
      "source": [
        "## Pada variabel space_in_a_car, digunakan nilai 4.0 . Apakah akan terjadi error jika diubah menjadi 4? Apa yang terjadi? "
      ]
    },
    {
      "cell_type": "code",
      "execution_count": null,
      "metadata": {
        "colab": {
          "base_uri": "https://localhost:8080/"
        },
        "id": "gd-iInD7JMPJ",
        "outputId": "ac952e9a-ff36-458a-cc1c-2b65b247e104"
      },
      "outputs": [
        {
          "name": "stdout",
          "output_type": "stream",
          "text": [
            "There are 100 cars available.\n",
            "There are only 30 drivers available.\n",
            "There will be 70 empty cars today.\n",
            "We can transport 120.0 people today.\n",
            "We have 90 to carpool today.\n",
            "We need to put about 3.0 in each car\n"
          ]
        }
      ],
      "source": [
        "cars = 100\n",
        "space_in_a_car = 4 # TIDAK EROR, KARENA PERUBAHAN INI HANYA BERPENGARUH PADA OUTPUT VARIABEL space_in_a_car (tidak float lagi)\n",
        "passengers = 90\n",
        "cars_not_driven = cars - drivers\n",
        "cars_driven = drivers\n",
        "carpool_capacity = cars_driven * space_in_a_car\n",
        "average_passengers_per_car = passengers / cars_driven\n",
        "\n",
        "\n",
        "print(\"There are\", cars, \"cars available.\")\n",
        "print(\"There are only\", drivers, \"drivers available.\")\n",
        "print(\"There will be\", cars_not_driven, \"empty cars today.\")\n",
        "print(\"We can transport\", carpool_capacity, \"people today.\")\n",
        "print(\"We have\", passengers, \"to carpool today.\")\n",
        "print(\"We need to put about\", average_passengers_per_car, \"in each car\")"
      ]
    },
    {
      "cell_type": "markdown",
      "metadata": {
        "id": "mpOPwunzJHeP"
      },
      "source": [
        "## Apakah maksud dari simbol = dan bagaimana format penamaan variabel di Python? Berikan contohnya!"
      ]
    },
    {
      "cell_type": "code",
      "execution_count": null,
      "metadata": {
        "colab": {
          "base_uri": "https://localhost:8080/"
        },
        "id": "0b5GizDPKLCH",
        "outputId": "12aebbdc-c70e-46e5-b1c8-b57fdd47a1dd"
      },
      "outputs": [
        {
          "name": "stdout",
          "output_type": "stream",
          "text": [
            "100\n"
          ]
        }
      ],
      "source": [
        "# simbol = adalah perintah pengisian dan pendefinisian dalam suatu variabel, contoh:\n",
        "a = 100\n",
        "print(a)\n",
        "\n"
      ]
    },
    {
      "cell_type": "code",
      "execution_count": null,
      "metadata": {
        "colab": {
          "base_uri": "https://localhost:8080/",
          "height": 131
        },
        "id": "fWCN6XXrmqLC",
        "outputId": "456b2382-364d-459b-d987-795d520c9118"
      },
      "outputs": [
        {
          "ename": "SyntaxError",
          "evalue": "ignored",
          "output_type": "error",
          "traceback": [
            "\u001b[0;36m  File \u001b[0;32m\"<ipython-input-14-9fbc9d7614ed>\"\u001b[0;36m, line \u001b[0;32m1\u001b[0m\n\u001b[0;31m    a 100 #namun jika ditulis tanpa simbol =\u001b[0m\n\u001b[0m        ^\u001b[0m\n\u001b[0;31mSyntaxError\u001b[0m\u001b[0;31m:\u001b[0m invalid syntax\n"
          ]
        }
      ],
      "source": [
        " a 100 #namun jika ditulis tanpa simbol = , maka akan terjadi eror karena nilai variabel a tidak terdefinisi\n",
        " print(a) #contoh"
      ]
    },
    {
      "cell_type": "markdown",
      "metadata": {
        "id": "v80B5ZQ9KTNy"
      },
      "source": [
        "# Exercise 5: More Variables and Printing"
      ]
    },
    {
      "cell_type": "markdown",
      "metadata": {
        "id": "gi7G4a_uKTNy"
      },
      "source": [
        "## Jelaskan maksud kode per baris"
      ]
    },
    {
      "cell_type": "code",
      "execution_count": null,
      "metadata": {
        "colab": {
          "base_uri": "https://localhost:8080/"
        },
        "id": "kzGgrHDhKTNy",
        "outputId": "9c9fb96d-fc66-47d0-a503-8a50e98ae604"
      },
      "outputs": [
        {
          "name": "stdout",
          "output_type": "stream",
          "text": [
            "Let's talk about Zed A. Shaw.\n",
            "He's 74 inches tall.\n",
            "He's 180 pounds heavy.\n",
            "Actually that's not too heavy.\n",
            "He's got Blue eyes and Brown hair.\n",
            "His teeth are usually White depending on the coffee.\n",
            "If I add 35, 74, and 180 I get 289.\n"
          ]
        }
      ],
      "source": [
        "my_name = 'Zed A. Shaw' # mendefinisikan variabel my_name yang outputnya Zed A. Shaw\n",
        "my_age = 35  # mendefinisikan variabel my_age yang outputnya  35 \n",
        "my_height = 74  # mendefinisikan variabel my_height yang outputnya 74 (dalam inches)\n",
        "my_weight = 180  # mendefinisikan variabel my_weight yang outputnya 180 (dalam lbs)\n",
        "my_eyes = 'Blue'  # mendefinisikan variabel my_eyes yang outputnya Biru\n",
        "my_teeth = 'White' # mendefinisikan variabel my_teeth yang outputnya putih\n",
        "my_hair = 'Brown' # mendefinisikan variabel my_hair yang outputnya cokelat\n",
        "\n",
        "print(f\"Let's talk about {my_name}.\") # perintah untuk menampilkan variabel nama\n",
        "print(f\"He's {my_height} inches tall.\") # perintah untuk menampilkan variabel tinggi badan Zed dalam satuan inches\n",
        "print(f\"He's {my_weight} pounds heavy.\") # perintah untuk menampilkan variabel berat badan Zed dalam satuan lbs\n",
        "print(\"Actually that's not too heavy.\") # perintah untuk menampilkan sintax/pernyataan 'Actually that's not too heavy'\n",
        "print(f\"He's got {my_eyes} eyes and {my_hair} hair.\") # perintah untuk menampilkan variabel warna rambut\n",
        "print(f\"His teeth are usually {my_teeth} depending on the coffee.\") # perintah untuk menampilkan variabel warna gigi\n",
        "\n",
        "# this line is tricky, try to get it exactly right\n",
        "total = my_age + my_height + my_weight # mendefinisikan variabel total\n",
        "print(f\"If I add {my_age}, {my_height}, and {my_weight} I get {total}.\")  # perintah untuk menampilkan sintax terkait\n"
      ]
    },
    {
      "cell_type": "markdown",
      "metadata": {
        "id": "KWv_yA90KTNy"
      },
      "source": [
        "## Ubah semua variabel sehingga tidak ada my_ di depan masing-masing variabel. Pastikan Anda mengubah nama di mana-mana, bukan hanya di tempat Anda menggunakan = untuk mengaturnya.\n",
        "\n"
      ]
    },
    {
      "cell_type": "code",
      "execution_count": null,
      "metadata": {
        "colab": {
          "base_uri": "https://localhost:8080/"
        },
        "id": "abLnEv32KTNz",
        "outputId": "d86d3172-e1ed-4c1c-b251-c220c387969e"
      },
      "outputs": [
        {
          "name": "stdout",
          "output_type": "stream",
          "text": [
            "Let's talk about Jelli Kurnilia.\n",
            "He's 59 inches tall.\n",
            "He's 110.2 pounds heavy.\n",
            "Actually that's not too heavy.\n",
            "He's got Brown eyes and Black hair.\n",
            "His teeth are usually White depending on the coffee.\n",
            "If I add 19, 59, and 110.2 I get 188.2.\n"
          ]
        }
      ],
      "source": [
        "name = 'Jelli Kurnilia'\n",
        "age = 19 # not a lie\n",
        "height = 59  # inches\n",
        "weight = 110.2 # lbs\n",
        "eyes = 'Brown'\n",
        "teeth = 'White'\n",
        "hair = 'Black'\n",
        "\n",
        "print(f\"Let's talk about {name}.\")\n",
        "print(f\"He's {height} inches tall.\")\n",
        "print(f\"He's {weight} pounds heavy.\")\n",
        "print(\"Actually that's not too heavy.\")\n",
        "print(f\"He's got {eyes} eyes and {hair} hair.\")\n",
        "print(f\"His teeth are usually {teeth} depending on the coffee.\")\n",
        "\n",
        "# this line is tricky, try to get it exactly right\n",
        "total = age + height + weight\n",
        "print(f\"If I add {age}, {height}, and {weight} I get {total}.\")"
      ]
    },
    {
      "cell_type": "markdown",
      "metadata": {
        "id": "ibaIBNHuKTNz"
      },
      "source": [
        "## Cobalah untuk menulis beberapa variabel yang mengubah inci dan pound menjadi sentimeter dan kilogram."
      ]
    },
    {
      "cell_type": "code",
      "execution_count": 2,
      "metadata": {
        "colab": {
          "base_uri": "https://localhost:8080/"
        },
        "id": "WoXzZxMyKTNz",
        "outputId": "acc3889e-96d8-4d95-d289-f0cfb2954174"
      },
      "outputs": [
        {
          "name": "stdout",
          "output_type": "stream",
          "text": [
            "tinggi badan dalam inci : 59\n",
            "59 inches is 149.86,cm\n",
            "berat badan dalam pound : 110\n",
            "110 pound is 49.895672684387186 kg\n"
          ]
        }
      ],
      "source": [
        "#KONVERSI INCI KE CENTIMETER\n",
        "inches =int(input(\"tinggi badan dalam inci : \"))\n",
        "cm = inches*2.54\n",
        "print(f\"{inches} inches is {cm},cm\")\n",
        "\n",
        "#KONVERSI POUND KE KILOGRAM\n",
        "pound = int(input(\"berat badan dalam pound : \"))\n",
        "kilogram = pound/2.2046\n",
        "print(f\"{ pound} pound is {kilogram} kg\")"
      ]
    },
    {
      "cell_type": "markdown",
      "metadata": {
        "id": "uE3N9ApYKTNz"
      },
      "source": [
        "## Bagaimana cara kerja format-string, atau f-string? Berikan contohnya!"
      ]
    },
    {
      "cell_type": "code",
      "execution_count": null,
      "metadata": {
        "colab": {
          "base_uri": "https://localhost:8080/"
        },
        "id": "1XjofeRgKTNz",
        "outputId": "298e212f-d51b-41aa-d1c0-da22c8cf95e9"
      },
      "outputs": [
        {
          "name": "stdout",
          "output_type": "stream",
          "text": [
            "Jelli Kurnilia\n"
          ]
        }
      ],
      "source": [
        "#f-string memudahkan memberi nilai pada sebuah variabel\n",
        "nama = f\"Jelli Kurnilia\" #contoh\n",
        "print(nama)"
      ]
    },
    {
      "cell_type": "markdown",
      "metadata": {
        "id": "sj88di8YLw7y"
      },
      "source": [
        "# Exercise 6: More Variables and Printing"
      ]
    },
    {
      "cell_type": "markdown",
      "metadata": {
        "id": "i691Sf8ULw7z"
      },
      "source": [
        "## Jelaskan maksud kode per baris"
      ]
    },
    {
      "cell_type": "code",
      "execution_count": null,
      "metadata": {
        "colab": {
          "base_uri": "https://localhost:8080/"
        },
        "id": "keEOS60OLw7z",
        "outputId": "d153cf2f-865c-4320-cf52-c67dc6031670"
      },
      "outputs": [
        {
          "name": "stdout",
          "output_type": "stream",
          "text": [
            "There are 10 types of people.\n",
            "Those who know binary and those who don't.\n",
            "I said: There are 10 types of people.\n",
            "I also said : 'Those who know binary and those who don't.'.\n",
            "Isn't that joke so funny?! False\n",
            "This is the left side of...a string with a right side.\n"
          ]
        }
      ],
      "source": [
        "types_of_people = 10 #menjelaskan variabel terkait\n",
        "x = f\"There are {types_of_people} types of people.\" #variabel tersebut ada yang tau biner dan tidak tau biner\n",
        "\n",
        "binary = \"binary\" #menegaskan pernyataan biner\n",
        "do_not = \"don't\"  #menegaskan pernyataan tidak tau biner\n",
        "y = f\"Those who know {binary} and those who {do_not}.\" #menjelaskan yang tau biner dan tidak tau biner\n",
        "\n",
        "print(x) #membaca variabel x\n",
        "print(y) #membaca variabel y\n",
        "\n",
        "print(f\"I said: {x}\") #menampilkan pernyataan berupa variabel dalam x\n",
        "print(f\"I also said : '{y}'.\") #menampilkan pernyataan berupa variabel dalam y\n",
        "\n",
        "hilarious = False #menampilkan pernytaan false/salah\n",
        "joke_evaluation = \"Isn't that joke so funny?! {}\" #menampilkan pertanyaan \n",
        "\n",
        "print(joke_evaluation.format(hilarious)) #menampilkan pertanyaan joke dan bernilai false\n",
        "\n",
        "w = \"This is the left side of...\" #membaca pernyataan pada variabel w\n",
        "e = \"a string with a right side.\" #membaca pernyataan pada variabel e\n",
        "\n",
        "print(w + e) #menampilkan hasil penggabungan variabel w dan e"
      ]
    },
    {
      "cell_type": "markdown",
      "metadata": {
        "id": "_Ff0lOyMLw7z"
      },
      "source": [
        "## Jika kita lihat di code, terdapat method .format pada object string. Apakah itu .method? Bagaimana cara kerjanya?\n",
        "\n"
      ]
    },
    {
      "cell_type": "code",
      "execution_count": null,
      "metadata": {
        "id": "59owZHvhLw7z"
      },
      "outputs": [],
      "source": [
        "#method adalah method khusus yang memiliki nama diawali serta diakhiri dengan underscore\n",
        "#Method joke_evaluation.format akan dipanggil ketika sebuah inputan dari kelas yang bersangkutan,\n",
        "#dikonversi menjadi string atau ketika dijadikan parameter untuk fungsi print()."
      ]
    },
    {
      "cell_type": "markdown",
      "metadata": {
        "id": "WiWXdZxlLw7z"
      },
      "source": [
        "## Lihat pada baris terakhir pada kode di atas. Apa yang terjadi?"
      ]
    },
    {
      "cell_type": "code",
      "execution_count": null,
      "metadata": {
        "id": "BJY0gJE1Lw7z"
      },
      "outputs": [],
      "source": [
        "#baris terakhir berisi print(w+e)\n",
        "#baris tersebut berfungsi untuk menampilkan hasil input gabungan antara nilai variabel w dengan e\n"
      ]
    },
    {
      "cell_type": "markdown",
      "metadata": {
        "id": "5y4yBvNBL2RZ"
      },
      "source": [
        "# Exercise 7: More Printing"
      ]
    },
    {
      "cell_type": "markdown",
      "metadata": {
        "id": "GQA3oqCcLvTD"
      },
      "source": [
        "## Jelaskan maksud kode per baris"
      ]
    },
    {
      "cell_type": "code",
      "execution_count": null,
      "metadata": {
        "colab": {
          "base_uri": "https://localhost:8080/"
        },
        "id": "3g445a-VLvTD",
        "outputId": "a070e78a-6419-4e3d-e113-90922279335f"
      },
      "outputs": [
        {
          "name": "stdout",
          "output_type": "stream",
          "text": [
            "Mary had a little lamb.\n",
            "Its fleece was white as snow.\n",
            "And everywhere that Mary went.\n",
            "..........\n",
            "Cheese Burger\n"
          ]
        }
      ],
      "source": [
        "#menampilkan perintah dengan print biasa (bukan f-string)\n",
        "print(\"Mary had a little lamb.\")\n",
        "print(\"Its fleece was white as {}.\".format('snow'))\n",
        "print(\"And everywhere that Mary went.\")\n",
        "print(\".\" * 10)  # menampilkan hasil . sebanyak 10\n",
        "\n",
        "end1 = \"C\"\n",
        "end2 = \"h\"\n",
        "end3 = \"e\"\n",
        "end4 = \"e\"\n",
        "end5 = \"s\"\n",
        "end6 = \"e\"\n",
        "end7 = \"B\"\n",
        "end8 = \"u\"\n",
        "end9 = \"r\"\n",
        "end10 = \"g\"\n",
        "end11 = \"e\"\n",
        "end12 = \"r\"\n",
        "\n",
        "#menampilkan hasil penjumlahan/penggabungan karakter pada variabel yang disebutkan\n",
        "print(end1 + end2 + end3 + end4 + end5 + end6, end=' ')\n",
        "print(end7 + end8 + end9 + end10 + end11 + end12)"
      ]
    },
    {
      "cell_type": "markdown",
      "metadata": {
        "id": "RnNNwuZGLvTE"
      },
      "source": [
        "## Apakah yang terjadi pada baris ke empat pada kode di atas?\n",
        "\n"
      ]
    },
    {
      "cell_type": "code",
      "execution_count": null,
      "metadata": {
        "colab": {
          "base_uri": "https://localhost:8080/"
        },
        "id": "CseAjMRiLvTE",
        "outputId": "9d0e7c82-3d04-496a-d731-65298d36ae8a"
      },
      "outputs": [
        {
          "name": "stdout",
          "output_type": "stream",
          "text": [
            "..........\n"
          ]
        }
      ],
      "source": [
        "print(\".\" * 10) #perintah ini akan menghasilkan output . sebanyak 10"
      ]
    },
    {
      "cell_type": "markdown",
      "metadata": {
        "id": "m7XKk5Q3LvTE"
      },
      "source": [
        "## Apakah maksud dari parameter end=' ' pada print()? "
      ]
    },
    {
      "cell_type": "code",
      "execution_count": null,
      "metadata": {
        "id": "jvFYF_mgLvTE"
      },
      "outputs": [],
      "source": [
        "#parameter end='' padda print() tersebut berfungsi untuk mengganti karakter terakhir bawaan yang dicetak di layar"
      ]
    },
    {
      "cell_type": "markdown",
      "metadata": {
        "id": "U-T_614wMz9u"
      },
      "source": [
        "# Exercise 8: Printing, Printing"
      ]
    },
    {
      "cell_type": "markdown",
      "metadata": {
        "id": "57a96pgVMz9v"
      },
      "source": [
        "## Jelaskan maksud kode per baris"
      ]
    },
    {
      "cell_type": "code",
      "execution_count": null,
      "metadata": {
        "colab": {
          "base_uri": "https://localhost:8080/"
        },
        "id": "OID-aC-GMz9v",
        "outputId": "bcd0a4ba-9509-4752-8696-8e31f5072a42"
      },
      "outputs": [
        {
          "name": "stdout",
          "output_type": "stream",
          "text": [
            "1 2 3 4\n",
            "one two three four\n",
            "True False False True\n",
            "{} {} {} {} {} {} {} {} {} {} {} {} {} {} {} {}\n",
            "Try your Own text here Maybe a poem Or a song about fear\n"
          ]
        }
      ],
      "source": [
        "formatter = \"{} {} {} {}\" #menunjukkan variabel formatter methode  berupa {}\n",
        "\n",
        "#menampilkan perintah terkait dengan variabel formatter/sebanyak tanda {} dalam variabel formatter\n",
        "print(formatter.format(1, 2, 3, 4)) \n",
        "print(formatter.format(\"one\", \"two\", \"three\", \"four\"))\n",
        "print(formatter.format(True, False, False, True))\n",
        "print(formatter.format(formatter, formatter, formatter, formatter))\n",
        "print(formatter.format(\"Try your\",\n",
        "                       \"Own text here\",\n",
        "                       \"Maybe a poem\",\n",
        "                       \"Or a song about fear\"\n",
        "                       ))"
      ]
    },
    {
      "cell_type": "markdown",
      "metadata": {
        "id": "6ONWCJguNCh5"
      },
      "source": [
        "# Exercise 9: Printing, Printing, Printing"
      ]
    },
    {
      "cell_type": "markdown",
      "metadata": {
        "id": "erJyCZYQNCh6"
      },
      "source": [
        "## Jelaskan maksud kode per baris"
      ]
    },
    {
      "cell_type": "code",
      "execution_count": null,
      "metadata": {
        "colab": {
          "base_uri": "https://localhost:8080/"
        },
        "id": "AqRXzSEZNCh7",
        "outputId": "c37eb696-c0b1-466a-db30-a3ba5391d86b"
      },
      "outputs": [
        {
          "name": "stdout",
          "output_type": "stream",
          "text": [
            "Here are the days: Mon Tue Wed Thu Fri Sat Sun\n",
            "Here are the months:  Jan\tFeb\tMar\tApr\tMay\tJun\tJul\tAug\n",
            "\n",
            "There's something going on here.\n",
            "With the three double-quotes.\n",
            "We'll be able to type as much as we like.\n",
            "Even 4 lines if we want, or 5, or 6.\n",
            "\n"
          ]
        }
      ],
      "source": [
        "# Here's some new strange stuff, remember type it exactly.\n",
        "\n",
        "days = \"Mon Tue Wed Thu Fri Sat Sun\" #melakukan inisialisasi variabel days\n",
        "months = \"Jan\\tFeb\\tMar\\tApr\\tMay\\tJun\\tJul\\tAug\" #melakukan inisialisasi variabel months dengan tambahan \\t dalam penulisan sintaxnya\n",
        "\n",
        "# \"\\t\" -> new line\n",
        "\n",
        "print(\"Here are the days:\", days) #memerintahkan untuk memunculkan variabel days\n",
        "print(\"Here are the months: \", months) #memerintahkan untuk memunculkan variabel months\n",
        "\n",
        "# print(\"\"\" untuk mencetak kalimat-kalimat dalam 3 atau lebih line didalamnya\n",
        "print(\"\"\" \n",
        "There's something going on here.\n",
        "With the three double-quotes.\n",
        "We'll be able to type as much as we like.\n",
        "Even 4 lines if we want, or 5, or 6.\n",
        "\"\"\")"
      ]
    },
    {
      "cell_type": "markdown",
      "metadata": {
        "id": "ZthG8NhzNOL4"
      },
      "source": [
        "## Apakah maksud dari \\t pada kode di atas? "
      ]
    },
    {
      "cell_type": "code",
      "execution_count": null,
      "metadata": {
        "id": "xpbveld_NMr4"
      },
      "outputs": [],
      "source": [
        "# menambahkan spasi (tab) atau menciptakan tab space pada output"
      ]
    },
    {
      "cell_type": "markdown",
      "metadata": {
        "id": "elew7bZaNU5l"
      },
      "source": [
        "## Untuk membuat baris baru pada print, kita dapat menggunakan \\n. Apakah ada perbedaan jika menggunakan \\n dan \"\"\"?"
      ]
    },
    {
      "cell_type": "code",
      "execution_count": 3,
      "metadata": {
        "id": "NWXMRzV6Nb-L"
      },
      "outputs": [],
      "source": [
        "# \\n digunakan untuk membuat baris baru (enter), sedangkan\n",
        "# \"\"\" digunaan untuk mencetak 3 sampai 4 atau lebih line"
      ]
    },
    {
      "cell_type": "markdown",
      "metadata": {
        "id": "AOq96W3oNe92"
      },
      "source": [
        "# Exercise 10: What Was That?"
      ]
    },
    {
      "cell_type": "markdown",
      "metadata": {
        "id": "IPZJd0gaNe92"
      },
      "source": [
        "## Jelaskan maksud kode per baris"
      ]
    },
    {
      "cell_type": "code",
      "execution_count": null,
      "metadata": {
        "colab": {
          "base_uri": "https://localhost:8080/"
        },
        "id": "tlKKcKOiNe93",
        "outputId": "6ec009d1-1170-424d-9859-5d4fe4e9ca14"
      },
      "outputs": [
        {
          "name": "stdout",
          "output_type": "stream",
          "text": [
            "\tI'm tabbed in.\n",
            "I'm split\n",
            "on a line.\n",
            "I'm \\ a \\ cat.\n",
            "\n",
            "I'll do a list:\n",
            "\t* Cat food\n",
            "\t* Fishes\n",
            "\t* Catnip\n",
            "\t* Grass\n",
            "\n"
          ]
        }
      ],
      "source": [
        "#menunjukkan vaariabel dengan penulisan escape character\n",
        "#Pada fungsi code dibawah ini mengandung backslash yang berfungsi untuk menghasilkan output baris baru atau menggantikan enter di python\n",
        "tabby_cat = \"\\tI'm tabbed in.\" \n",
        "persian_cat = \"I'm split\\non a line.\"\n",
        "backslash_cat = \"I'm \\\\ a \\\\ cat.\"\n",
        "\n",
        "# \\t membuat tulisan menjorok kedalam (tab space)\n",
        "#Pada fungsi code dibawah ini mengandung format escape yang berguna untuk memunculkan karakter dalam output di python\n",
        "# tanda \"\"\" berfungsi untuk mencetak 3 atau lebih baris line\n",
        "fat_cat = \"\"\" \n",
        "I'll do a list:\n",
        "\\t* Cat food\n",
        "\\t* Fishes\n",
        "\\t* Catnip\\n\\t* Grass\n",
        "\"\"\"\n",
        "\n",
        "#menampilkan hasil dari variabel yang telah dibuat\n",
        "print(tabby_cat)\n",
        "print(persian_cat)\n",
        "print(backslash_cat)\n",
        "print(fat_cat)\n"
      ]
    },
    {
      "cell_type": "markdown",
      "metadata": {
        "id": "AH30J2vWNe93"
      },
      "source": [
        "## Apakah escape character itu?"
      ]
    },
    {
      "cell_type": "code",
      "execution_count": null,
      "metadata": {
        "id": "0-BUnByiNe93"
      },
      "outputs": [],
      "source": [
        "#digunakan untuk memasukkan karakter yang ilegal ke dalam string menggunakan backslash \\\n",
        "#selain itu format escape yang berguna untuk memunculkan karakter dalam output di python\n",
        "#diikuti dengan karakter yang ingin diinputkan.contoh tabby_cat = \"\\tI'm tabbed in.\"\n"
      ]
    },
    {
      "cell_type": "markdown",
      "metadata": {
        "id": "UFHxVjIUNvHp"
      },
      "source": [
        "## Bayangkan kita mempunyai kode \n",
        "\n",
        "\n",
        "```\n",
        "tabby_cat = 'I'm tabbed in.'\n",
        "```\n",
        "yang jika dijalankan akan menghasilkan error. Bagaimana cara untuk mengatasi hal tersebut menggunakan escape character?\n"
      ]
    },
    {
      "cell_type": "code",
      "execution_count": 1,
      "metadata": {
        "colab": {
          "base_uri": "https://localhost:8080/"
        },
        "id": "C4schOA1N7ZM",
        "outputId": "40fa3bc4-b915-4224-be58-83062f69ec3a"
      },
      "outputs": [
        {
          "name": "stdout",
          "output_type": "stream",
          "text": [
            "I'm tabbed in.\n"
          ]
        }
      ],
      "source": [
        "tabby_cat = 'I\\'m tabbed in.' #menambahkan backslash\n",
        "print(tabby_cat)\n"
      ]
    }
  ],
  "metadata": {
    "colab": {
      "collapsed_sections": [
        "ZFnnRzziGmWJ",
        "M_KPDHSGHgo2"
      ],
      "provenance": []
    },
    "kernelspec": {
      "display_name": "Python 3.10.7 64-bit (microsoft store)",
      "language": "python",
      "name": "python3"
    },
    "language_info": {
      "codemirror_mode": {
        "name": "ipython",
        "version": 3
      },
      "file_extension": ".py",
      "mimetype": "text/x-python",
      "name": "python",
      "nbconvert_exporter": "python",
      "pygments_lexer": "ipython3",
      "version": "3.10.7"
    },
    "vscode": {
      "interpreter": {
        "hash": "65a440aeac0c89e2af7569e0aa53b64434c4b69eb6285e2b0d174d9bca190d54"
      }
    }
  },
  "nbformat": 4,
  "nbformat_minor": 0
}
