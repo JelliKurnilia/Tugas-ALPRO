{
  "nbformat": 4,
  "nbformat_minor": 0,
  "metadata": {
    "colab": {
      "provenance": [],
      "collapsed_sections": [
        "ZFnnRzziGmWJ",
        "M_KPDHSGHgo2"
      ]
    },
    "kernelspec": {
      "name": "python3",
      "display_name": "Python 3"
    },
    "language_info": {
      "name": "python"
    }
  },
  "cells": [
    {
      "cell_type": "markdown",
      "source": [
        "### JELLI KURNILIA\n",
        "### 121450083/RC\n",
        "### PRAKTIKUM ALPRO MODUL 3\n",
        "Disclaimer! Bang maaf nanti didalem penjelasan ada yang beberapa pake bahasa sendiri/sehari-hari soalnya bingung jelasinnya hehe:)"
      ],
      "metadata": {
        "id": "XWgCrx2_yc29"
      }
    },
    {
      "cell_type": "markdown",
      "source": [
        "# Exercise 11: Asking Questions"
      ],
      "metadata": {
        "id": "ZFnnRzziGmWJ"
      }
    },
    {
      "cell_type": "markdown",
      "source": [
        "## Jelaskan maksud kode per baris"
      ],
      "metadata": {
        "id": "W_1O34kUHJ-F"
      }
    },
    {
      "cell_type": "code",
      "execution_count": null,
      "metadata": {
        "id": "kUHhArx1GjDO",
        "colab": {
          "base_uri": "https://localhost:8080/"
        },
        "outputId": "c8c2ff4b-17fc-49bf-f1a1-61cba036f314"
      },
      "outputs": [
        {
          "output_type": "stream",
          "name": "stdout",
          "text": [
            "How old are you? 20\n",
            "How tall are you? 150\n",
            "How much do you weight? 50\n",
            "So, you're 20 old, 150 tall and 50 heavy.\n"
          ]
        }
      ],
      "source": [
        "print(\"How old are you?\", end=' ')                # perintah mencetak how old are you?, dan mengganti karakter terakhir bawaan yang dicetak di layar. \n",
        "age = input()                                     # perintah input untuk memasukan value  yang kita inginkan (bebassss browww) dalam variabel age\n",
        "print(\"How tall are you?\", end=' ')               # perintah mencetak how tall are you?, dan mengganti karakter terakhir bawaan yang dicetak di layar.\n",
        "height = input()                                  # perintah input untuk memasukan value  yang kita inginkan (bebassss) dalam variabel height\n",
        "print(\"How much do you weight?\", end=' ')         # perintah mencetak how do you weight?, dan mengganti karakter terakhir bawaan yang dicetak di layar.\n",
        "weight = input()                                  # perintah input untuk memasukan value  yang kita inginkan (bebassss) dalam variabel weight\n",
        "\n",
        "print(f\"So, you're {age} old, {height} tall and {weight} heavy.\") # Mencetak kembali value yang kita berikan kepada variabel-variabel sebelumnya dengan format f \n"
      ]
    },
    {
      "cell_type": "code",
      "source": [
        "while True:\n",
        "    try:\n",
        "        age = int(input(\"How old are you? : \"))\n",
        "        height = int(input(\"How tall are you? : \"))\n",
        "        weight = int(input(\"How much do you weight? : \"))\n",
        "    except ValueError:\n",
        "        print(\"This is not in numbers...\")\n",
        "    else:\n",
        "        break\n",
        "\n",
        "print(f\"So, you're {age} old, {height} tall and {weight} heavy.\")"
      ],
      "metadata": {
        "id": "cIcBqi-wkS_R"
      },
      "execution_count": null,
      "outputs": []
    },
    {
      "cell_type": "markdown",
      "source": [
        "## Ada yang aneh? Apakah fungsi dari kode **input()**?\n",
        "\n"
      ],
      "metadata": {
        "id": "SF81PVAUHPeW"
      }
    },
    {
      "cell_type": "code",
      "source": [
        "#Fungsi input() menerima satu buah parameter string, yang mana parameter tersebut akan ditampilkan di layar sebelum user memasukkan sebuah data"
      ],
      "metadata": {
        "id": "hnUARA6dHTgm"
      },
      "execution_count": null,
      "outputs": []
    },
    {
      "cell_type": "markdown",
      "source": [
        "## Apakah tipe data bawaan dari **input()**?"
      ],
      "metadata": {
        "id": "bML5VYfLHyMm"
      }
    },
    {
      "cell_type": "markdown",
      "source": [],
      "metadata": {
        "id": "t1Czizeaoh9P"
      }
    },
    {
      "cell_type": "code",
      "source": [
        "type(age)\n",
        "type(height)\n",
        "type(weight)\n",
        "#Dapat diketahui bahwa tipe data dari input adalah str (string)"
      ],
      "metadata": {
        "id": "-Tj5Ri_IKY0T",
        "colab": {
          "base_uri": "https://localhost:8080/"
        },
        "outputId": "b9d21bf2-4938-4573-b96b-8de2926f5f58"
      },
      "execution_count": null,
      "outputs": [
        {
          "output_type": "execute_result",
          "data": {
            "text/plain": [
              "str"
            ]
          },
          "metadata": {},
          "execution_count": 5
        }
      ]
    },
    {
      "cell_type": "markdown",
      "source": [
        "## Apakah fungsi dari **end=' '**?"
      ],
      "metadata": {
        "id": "dgYBT6dzHT5t"
      }
    },
    {
      "cell_type": "code",
      "source": [
        "# end = '' berfungsi untuk mengganti karakter ganti baris bawaan python dengan karakter lain sesuai keinginan kita, misal :\n",
        "print('Merkurius', end=' ')\n",
        "print('Venus', end=' ')\n",
        "print('Bumi', end=' ')"
      ],
      "metadata": {
        "id": "eXsOtcaiHcN0",
        "colab": {
          "base_uri": "https://localhost:8080/"
        },
        "outputId": "a31f66af-f95f-456a-fd73-bfcd482d11a0"
      },
      "execution_count": null,
      "outputs": [
        {
          "output_type": "stream",
          "name": "stdout",
          "text": [
            "Merkurius Venus Bumi "
          ]
        }
      ]
    },
    {
      "cell_type": "markdown",
      "source": [
        "## Apakah ada cara lain untuk mendapatkan input dari pengguna selain menggunakan **input()** ? Contohkan!"
      ],
      "metadata": {
        "id": "hbs-kHNxHfM-"
      }
    },
    {
      "cell_type": "code",
      "source": [
        "#Setahu saya bisa pake raw_input()"
      ],
      "metadata": {
        "id": "OF2dc_hHzMpt"
      },
      "execution_count": null,
      "outputs": []
    },
    {
      "cell_type": "markdown",
      "source": [
        "## [Referensi](https://www.programiz.com/python-programming/input-output-import)\n"
      ],
      "metadata": {
        "id": "uVd2pzOUHoGX"
      }
    },
    {
      "cell_type": "markdown",
      "source": [
        "# Exercise 12: Prompting People\n"
      ],
      "metadata": {
        "id": "M_KPDHSGHgo2"
      }
    },
    {
      "cell_type": "markdown",
      "source": [
        "## Jelaskan maksud kode per baris"
      ],
      "metadata": {
        "id": "h_plF8hhHgo2"
      }
    },
    {
      "cell_type": "code",
      "execution_count": null,
      "metadata": {
        "id": "sNJCAqkpHgo2",
        "colab": {
          "base_uri": "https://localhost:8080/"
        },
        "outputId": "a593e6e8-589c-41b5-fd0d-d05d9935a116"
      },
      "outputs": [
        {
          "output_type": "stream",
          "name": "stdout",
          "text": [
            "How old are you? 20\n",
            "How tall are you? 150\n",
            "How much do you weight? 40\n",
            "So, you're 20 old, 150 tall and 40 heavy.\n"
          ]
        }
      ],
      "source": [
        "age = input(\"How old are you? \") #perintah untuk menanyakan age (umur) lalu meminta user mengisi pertanyaan tsb\n",
        "height = input(\"How tall are you? \") #perintah untuk menanyakan height (tinggi) lalu meminta user mengisi pertanyaan tsb\n",
        "weight = input(\"How much do you weight? \") #perintah untul menanyakan weight (berat) lalu meminta user mengisi pertanyaan tsb\n",
        "\n",
        "print(f\"So, you're {age} old, {height} tall and {weight} heavy.\")  #mengoutputkan variabel yang sudah didefinisikan yang hasilnya berupa angka - angka yang dimasukan ke variable dengan string"
      ]
    },
    {
      "cell_type": "markdown",
      "source": [
        "## Ketika kita memasukkan nilai ke dalam ( ), akan menghasilkan apa?"
      ],
      "metadata": {
        "id": "lB26TUnSHgo2"
      }
    },
    {
      "cell_type": "code",
      "source": [
        "#selagi didepannya tidak ada integer maka formatnya string\n",
        "#Dan jika input itu biar ada stringnya/ada teksnya dimulai dengan (\" \") "
      ],
      "metadata": {
        "id": "zGht_qGdHgo3"
      },
      "execution_count": null,
      "outputs": []
    },
    {
      "cell_type": "markdown",
      "source": [
        "## Jalankan kode di bawah pada terminal atau cmd, menghasilkan apa?\n",
        "\n",
        "\n",
        "```\n",
        "python -m pydoc input\n",
        "```\n",
        "\n"
      ],
      "metadata": {
        "id": "3BWgtkrHHgo3"
      }
    },
    {
      "cell_type": "code",
      "source": [
        "# python -m pydoc input memunculkan library yang memberi info-info terhadap kamus/dokumentasi terhadap fungsi yang kita masukan"
      ],
      "metadata": {
        "id": "PlvKRvOmL1l-"
      },
      "execution_count": null,
      "outputs": []
    },
    {
      "cell_type": "markdown",
      "source": [
        "## Gunakan pydoc untuk juga membaca tentang open, file, os, dan sys. Ganti **input** pada kode di atas menjadi **file, os, dan sys**. Jelaskan masing-masing hasilnya!"
      ],
      "metadata": {
        "id": "HW_eIAsJL0pm"
      }
    },
    {
      "cell_type": "code",
      "source": [
        "menjelaskan fungsi dari open file, os, dan sys"
      ],
      "metadata": {
        "id": "py6vlxMzoNTw"
      },
      "execution_count": null,
      "outputs": []
    },
    {
      "cell_type": "code",
      "source": [
        "??open #cara lain selain python -m pydoc input"
      ],
      "metadata": {
        "id": "Ba6mgZvNJeVX",
        "colab": {
          "base_uri": "https://localhost:8080/"
        },
        "outputId": "205f91de-f66a-476e-f527-9904739f73a8"
      },
      "execution_count": null,
      "outputs": [
        {
          "output_type": "stream",
          "name": "stdout",
          "text": [
            "Object `open #cara lain selain python -m pydoc input` not found.\n"
          ]
        }
      ]
    },
    {
      "cell_type": "markdown",
      "source": [
        "## Apakah cara seperti ini dapat dilakukan? Praktekkan!\n",
        "\n",
        "\n",
        "```\n",
        "print(\"How old are you?\" , input())?\n",
        "```\n",
        "\n"
      ],
      "metadata": {
        "id": "8UoYDZfLMkBw"
      }
    },
    {
      "cell_type": "code",
      "source": [
        "#print(\"How old are you?\" , input())?  Tidak dapat dilakukan karena tanda ? menggganggu code, maka sebaiknya\n",
        "print(\"How old are you?\" , input())\n"
      ],
      "metadata": {
        "id": "1xl-JmDpMpO4",
        "colab": {
          "base_uri": "https://localhost:8080/"
        },
        "outputId": "397afc7e-d3d2-4151-8f7f-bb6a785a613a"
      },
      "execution_count": null,
      "outputs": [
        {
          "output_type": "stream",
          "name": "stdout",
          "text": [
            "57\n",
            "How old are you? 57\n"
          ]
        }
      ]
    },
    {
      "cell_type": "markdown",
      "source": [
        "# Exercise 13: Parameters, Unpacking, Variables\n",
        "Apa yang akan kita lakukan sekarang adalah menulis script yang dapat menerima argumen"
      ],
      "metadata": {
        "id": "GnrqihmQIF_c"
      }
    },
    {
      "cell_type": "markdown",
      "source": [
        "## Jelaskan maksud kode per baris (jangan jalankan di .ipynb)"
      ],
      "metadata": {
        "id": "4sIKJ-BGIF_d"
      }
    },
    {
      "cell_type": "code",
      "execution_count": null,
      "metadata": {
        "id": "jlw9cjunIF_d"
      },
      "outputs": [],
      "source": [
        "from sys import argv #Perintah untuk mengimport argv (argumen variabel) dari library sys\n",
        "\n",
        "# read the WYSS section for how to run this\n",
        "script, first, second, third = argv #memberi value kepada argumen yang akan kita berikan nanti pada saat kita mengeksekusi melalui cmd\n",
        "\n",
        "print(\"The script is called:\", script) #menncetak string biasa dan mencetak value yang kita berikan saat mengeksekusi di cmd nanti\n",
        "print(\"Your first variable is:\", first) #mencetak variabel pertama pada script\n",
        "print(\"Your second variable is:\", second) #mencetak variabel kedua pada script\n",
        "print(\"Your third variable is:\", third) #mencetak variabel ketiga pada script"
      ]
    },
    {
      "cell_type": "markdown",
      "source": [
        "## Buatlah file dengan nama ex13.py, kemudian salin kode di atas. Pindah ke direktori file, kemudian jalankan kode di bawah. Apakah berhasil? Apa yang terjadi?\n",
        "\n",
        "## akan terjadi eror karena tidak sesuai argumen yang ada.\n",
        "\n",
        "```\n",
        "python .\\ex13.py Kalian Semua Keren \n",
        "```\n",
        "\n"
      ],
      "metadata": {
        "id": "1PbBp9dZOoxt"
      }
    },
    {
      "cell_type": "markdown",
      "source": [
        "## Coba masukkan kode seperti di atas, namun kurangi atau lebihkan argumen yang kalian berikan. Apa yang terjadi?"
      ],
      "metadata": {
        "id": "Kv4GsnfbQNoX"
      }
    },
    {
      "cell_type": "code",
      "source": [
        "# TIDAK BISA (terjadi eror) karena jumlah variabel yang ada di syntax harus sama dengan jumlah argumen yang diberikan"
      ],
      "metadata": {
        "id": "-lZT5pVQQCs8"
      },
      "execution_count": null,
      "outputs": []
    },
    {
      "cell_type": "markdown",
      "source": [
        "## Buatlah suatu program yang menerima argv dan input secara bersamaan!"
      ],
      "metadata": {
        "id": "zvp_dwvuQcBy"
      }
    },
    {
      "cell_type": "code",
      "source": [
        "from sys import argv\n",
        "\n",
        "script, age, tinggi, kota = argv\n",
        "\n",
        "print(\"The script is called:\", script)\n",
        "print(\"Umur anda adalah:\", age)\n",
        "print(\"tinggi anda adalah::\", tinggi)\n",
        "print(\"kota asal anda adalah:\", kota)\n",
        "\n",
        "nilai = (input(\"Masukan nilai anda: \"))\n",
        "\n",
        "print(nilai)"
      ],
      "metadata": {
        "id": "10vv2pQcz12l"
      },
      "execution_count": null,
      "outputs": []
    },
    {
      "cell_type": "markdown",
      "source": [
        "## Apakah library dan module adalah dua hal yang sama?"
      ],
      "metadata": {
        "id": "gJ74CWaDPtZM"
      }
    },
    {
      "cell_type": "code",
      "source": [
        "#library kumpulan module yang fungsional dan sangat kompleks\n",
        "#module sendiri adalah file dengan extension .py yang keefisienannya dapat diturunkan"
      ],
      "metadata": {
        "id": "oV8ul5YhIF_e"
      },
      "execution_count": null,
      "outputs": []
    },
    {
      "cell_type": "markdown",
      "source": [
        "# Exercise 14: Prompting And Passing\n",
        "\n"
      ],
      "metadata": {
        "id": "3tMQgwybJMPH"
      }
    },
    {
      "cell_type": "markdown",
      "source": [
        "## Jelaskan maksud kode per baris (jangan jalankan di .ipynb)"
      ],
      "metadata": {
        "id": "1m2uU1tRJMPH"
      }
    },
    {
      "cell_type": "code",
      "source": [
        "from sys import argv #Perintah untuk mengimport argv dari library sys\n",
        "\n",
        "script, user_name, = argv #Memberi value kepada argumen yang akan kita berikan nanti pada saat kita mengeksekusi melalui cmd (ada 3 argumen)\n",
        "prompt = '> '\n",
        "\n",
        "print(f\"Hi {user_name}, I'm the {script} script.\") #Mencetak string biasa dan mencetak value yang kita berikan saat mengeksekusi di cmd nanti\n",
        "print(\"I'd like to ask you a few questions.\") #Mencetak string biasa\n",
        "print(f\"Do you like me {user_name}?\") #Mencetak string berupa username\n",
        "likes = input(prompt)  #Menginputkan value kepada variabel likes oleh user\n",
        "\n",
        "print(f\"Where do you live {user_name}?\") #Mencetak string pertanyaan kepada user\n",
        "lives = input(prompt) #Menginputkan value kepada variabel likes oleh user\n",
        "\n",
        "print(\"What kind of computer do you have?\") #Menncetak string sebuah pertanyaan\n",
        "computer = input(prompt) #Menginputkan value kepada variabel likes oleh user\n",
        "\n",
        "print(f\"\"\"\n",
        "Alright, so you said {likes} about liking me. \n",
        "And you have a {computer} computer. Nice.\n",
        "\"\"\") #Mencetak variabel  yang sudah kita berikan value melalui fungsi input"
      ],
      "metadata": {
        "id": "-DIg4QOfstxE"
      },
      "execution_count": null,
      "outputs": []
    },
    {
      "cell_type": "markdown",
      "source": [
        "## Apakah kalian bisa menjalankan kode di atas? Bagaimana caranya?\n",
        "\n"
      ],
      "metadata": {
        "id": "UqP8fxwaJMPI"
      }
    },
    {
      "cell_type": "code",
      "source": [
        "#KODE DIATAS TIDAK BISA DIJALANKAN. \n",
        "# Hanya bisa dijalankan menggunakan cmd\n",
        "# pertama ganti directory di cmd dengan nulis cd, lalu copy paste-kan address file python yang ingin anda buka\n",
        "# lalu masukkan 1 argumen (dicocokin aja sama codingan tadi)\n",
        "# contoh : python main1.py Jelli\n",
        "# lalu inputkan value ke variabel dengan suke hati kite.\n",
        "# nah outputnya nanti begini :\n",
        "\n",
        "#Hi Jelli, I'm the main2.py script.\n",
        "#I'd like to ask you a few questions.\n",
        "#Do you like me Jelli?\n",
        "#> no\n",
        "#Where do you live Jelli?\n",
        "#> ga kepo ya\n",
        "#What kind of computer do you have?\n",
        "#> lumayan\n",
        "\n",
        "#Alright, so you said no about liking me.\n",
        "#You live in ga kepo ya. Not sure where that is.\n",
        "#And you have a lumayan. Nice."
      ],
      "metadata": {
        "id": "Q9PXAdCyJMPJ"
      },
      "execution_count": null,
      "outputs": []
    },
    {
      "cell_type": "markdown",
      "source": [
        "## Editlah kode di atas. Tambahkan argumen **last_name** dan gunakan itu pada script ketika kalian menjalankan programnya di Terminal/CMD! \n",
        "\n",
        "contohnya:\n",
        "\n",
        "\n",
        "```\n",
        "python ex14.py dimas wahyu\n",
        "```\n",
        "\n"
      ],
      "metadata": {
        "id": "6-phWpn-Ryjv"
      }
    },
    {
      "cell_type": "code",
      "source": [
        "from sys import argv\n",
        "\n",
        "script, user_name, last_name = argv\n",
        "prompt = '> '\n",
        "\n",
        "print(f\"Hi {user_name} {last_name}, I'm the {script} script.\")\n",
        "print(\"I'd like to ask you a few questions.\")\n",
        "print(f\"Do you like me {user_name} {last_name}?\")\n",
        "likes = input(prompt)\n",
        "\n",
        "print(f\"Where do you live {user_name} {last_name}?\")\n",
        "lives = input(prompt)\n",
        "\n",
        "print(\"What kind of computer do you have?\")\n",
        "computer = input(prompt)\n",
        "\n",
        "print(f\"\"\"\n",
        "Alright, so you said {likes} about liking me.\n",
        "You live in {lives}. Not sure where that is.\n",
        "And you have a {computer} computer. Nice.\n",
        "\"\"\")"
      ],
      "metadata": {
        "id": "QxrvB4DMRyUF"
      },
      "execution_count": null,
      "outputs": []
    },
    {
      "cell_type": "markdown",
      "source": [
        "# Exercise 15: Reading Files\n",
        "Hati-hati, dapat menghapus berkas kalian. Jalankan pada cmd/terminal.\n",
        "\n",
        "Latihan ini melibatkan penulisan dua file. Salah satunya adalah file ex15.py biasa yang akan Anda jalankan, tetapi yang lain diberi nama ex15_sample.txt. File kedua ini bukan skrip tetapi file teks biasa yang akan kita baca."
      ],
      "metadata": {
        "id": "v80B5ZQ9KTNy"
      }
    },
    {
      "cell_type": "markdown",
      "source": [
        "## file ex15_sample.txt (buat di notepad)\n",
        "\n",
        "\n",
        "\n",
        "```\n",
        "This is stuff I typed into a file.\n",
        "It is really cool stuff.\n",
        "Lots and lots of fun to have in here.\n",
        "```\n",
        "\n"
      ],
      "metadata": {
        "id": "Saj6T6_gc_TS"
      }
    },
    {
      "cell_type": "markdown",
      "source": [
        "## Jelaskan maksud kode per baris (jangan di .ipynb, jalankan di script mode)"
      ],
      "metadata": {
        "id": "gi7G4a_uKTNy"
      }
    },
    {
      "cell_type": "code",
      "execution_count": null,
      "metadata": {
        "id": "kzGgrHDhKTNy"
      },
      "outputs": [],
      "source": [
        "from sys import argv  #Mengimport argv dari library sys\n",
        "\n",
        "script, filename = argv #Memberi value ke argumen yang akan kita berikan nanti pada saat kita mengeksekusi melalui cmd \n",
        "\n",
        "txt = open(filename) #Berfungsi untuk membuka file txt (dengan fungsi \"open\") yang akan kita buka nanti \n",
        "\n",
        "print(f\"Here's your file {filename}:\") #Mencetak string pernyataan Here's your file dan value variabel \"filename\" dengan menggunakan format f\n",
        "print(txt.read()) #Mencetak ulang isi teks yang ada di file txt tersebut\n",
        "\n",
        "print(\"Type the filename again:\") #Mencetak string Type the filename again:\n",
        "file_again = input(\"> \") #Mencetak string symbol dan juga meminta input dari user\n",
        "\n",
        "txt_again = open(file_again) #Membuka file txt lagi\n",
        "\n",
        "print(txt_again.read()) # mencetak lagi isi dari file txt"
      ]
    },
    {
      "cell_type": "markdown",
      "source": [
        "## [Referensi](https://www.w3schools.com/python/ref_func_open.asp)"
      ],
      "metadata": {
        "id": "LDSAJq7qdg4C"
      }
    },
    {
      "cell_type": "markdown",
      "source": [
        "# Exercise 16: Reading And Writing Files\n",
        "Jangan jalankan di .ipynb\n",
        "\n",
        "\n",
        "```\n",
        "• close – Closes the file. Like File->Save.. in your editor.\n",
        "• read – Reads the contents of the file. You can assign the result to a variable.\n",
        "• readline – Reads just one line of a text file.\n",
        "• truncate – Empties the file. Watch out if you care about the file.\n",
        "• write('stuff') – Writes ”stuff” to the file.\n",
        "• seek(0) – Move the read/write location to the beginning of the file.\n",
        "```\n",
        "\n"
      ],
      "metadata": {
        "id": "sj88di8YLw7y"
      }
    },
    {
      "cell_type": "markdown",
      "source": [
        "## Buatlah file test.txt, dengan isi,\n",
        "\n",
        "\n",
        "```\n",
        "Halo ini hanya contoh\n",
        "ini baris kedua\n",
        "ini baris ketiga\n",
        "```\n",
        "\n"
      ],
      "metadata": {
        "id": "0lGOPD_ggxoc"
      }
    },
    {
      "cell_type": "markdown",
      "source": [
        "## Jelaskan maksud kode per baris (jangan jalankan di file .ipynb)"
      ],
      "metadata": {
        "id": "i691Sf8ULw7z"
      }
    },
    {
      "cell_type": "code",
      "execution_count": null,
      "metadata": {
        "id": "keEOS60OLw7z"
      },
      "outputs": [],
      "source": [
        "from sys import argv #Mengimport argv dari library sys\n",
        "\n",
        "script, filename = argv #Memberi value kepada argumen yang akan kita berikan nanti pada saat kita mengeksekusi melalui cmd\n",
        "\n",
        "print(f\"We're going to erase {filename} {script}.\") #Mencetak string dan value variabel \"filename\" & \"script\" dengan menggunakan format f\n",
        "print(\"If you don't want that, hit CTRL-C (^C).\") #Mencetak perintah jika tidak menginginkan bisa langsung klik CTRL C untuk membatalkan semua operasi di cmd\n",
        "print(\"If you do want that, hit RETURN.\") #Ketika kita memasukan input \"enter\" kita bisa lanjut ke programnya\n",
        "\n",
        "input(\"?\") #Untuk menginputkan dari user (apakah user ingin lanjut ke program atau membatalkan operasi?)\n",
        "\n",
        "print(\"Opening the file...\") #mencetak string\n",
        "target = open(filename, 'w') #Membuka file dengan tujuan \"Opens in write-only mode\" / buka dalam mode tulis\n",
        "\n",
        "print(\"Truncating the file. Goodbye!\") #Mencetak string \n",
        "target.truncate() #Membuat variabel \"target\" untuk dijalankan fungsi truncate, truncate berfungsi untuk menghapus konten file tanpa menghapus seluruh file \n",
        "\n",
        "print(\"Now I'm going to ask you for three lines.\") # mencetak string biasa\n",
        "\n",
        "line1 = input(\"line1: \") #Meminta input dari user untuk line 1\n",
        "line2 = input(\"line2: \") #Meminta input dari user untuk line 2\n",
        "line3 = input(\"line3: \") #Meminta input dari user untuk line 3\n",
        "\n",
        "print(\"I'm going to write these to the file.\") # mencetak string biasa\n",
        "\n",
        "target.write(line1) # mencetak ulang variabel inputan user \"line1\" di notepad \n",
        "target.write(\"\\n\")  # untuk membuat line setelah ini dibawah line yang pertama (kasarnya seperti memencet enter di word)\n",
        "target.write(line2) # sama seperti target.write(line1)\n",
        "target.write(\"\\n\")  # sama seperti target.write(\"\\n\")\n",
        "target.write(line3) # sama seperti target.write(line1)\n",
        "target.write(\"\\n\")  # sama seperti target.write(\"\\n\")\n",
        "\n",
        "print(\"And finally, we close it.\") # mencetak string biasa\n",
        "target.close() # menutup file notepad & juga otomatis melakukan penyimpanan terhadap perubahan line yang kita ubah di notepad\n"
      ]
    },
    {
      "cell_type": "markdown",
      "source": [
        "## Lihat pada baris 8. Cari tahu kenapa kita harus menambhkan 'w' sebagai parameter tambahan untuk membuka!"
      ],
      "metadata": {
        "id": "SDrAKq49hzAf"
      }
    },
    {
      "cell_type": "code",
      "source": [
        "#'w' berfungsi untuk membuka file dengan tujuan \"Opens in write-only mode\" / buka dalam mode tulis"
      ],
      "metadata": {
        "id": "5zVL5r_ziC8M"
      },
      "execution_count": null,
      "outputs": []
    },
    {
      "cell_type": "markdown",
      "source": [
        "## Selain menggunakan 'w', apa saja yang dapat kita gunakan?"
      ],
      "metadata": {
        "id": "F48ZetqqiDOu"
      }
    },
    {
      "cell_type": "code",
      "source": [
        "# 'r' = read only "
      ],
      "metadata": {
        "id": "EPpwbkyfiGKc"
      },
      "execution_count": null,
      "outputs": []
    },
    {
      "cell_type": "markdown",
      "source": [
        "## Terlalu banyak pengulangan dalam file ini. Gunakan string, format, dan escape character untuk mencetak line1, line2, dan line3 hanya dengan satu perintah target.write(), bukan enam."
      ],
      "metadata": {
        "id": "Q4UYU_geiZLk"
      }
    },
    {
      "cell_type": "code",
      "source": [
        "# target.write('{}\\n{}\\n{}\\n'.format(line1, line2, line3))"
      ],
      "metadata": {
        "id": "-ls0c339iexy"
      },
      "execution_count": null,
      "outputs": []
    },
    {
      "cell_type": "markdown",
      "source": [
        "## Tulis skrip yang mirip dengan latihan terakhir yang menggunakan read dan argv untuk membaca file yang baru saja Anda buat."
      ],
      "metadata": {
        "id": "3dVH_eyRixtG"
      }
    },
    {
      "cell_type": "code",
      "source": [
        "from sys import argv\n",
        "\n",
        "script, filename = argv\n",
        "\n",
        "target = open(filename, 'r')\n",
        "print(target.read())"
      ],
      "metadata": {
        "id": "6FTboT9Ri1C1"
      },
      "execution_count": null,
      "outputs": []
    },
    {
      "cell_type": "markdown",
      "source": [
        "## [Referensi](https://www.programiz.com/python-programming/file-operation)"
      ],
      "metadata": {
        "id": "nyeQfdj8hl4g"
      }
    },
    {
      "cell_type": "markdown",
      "source": [
        "# Exercise 17: More Files\n",
        "Jangan jalankan di .ipynb"
      ],
      "metadata": {
        "id": "5y4yBvNBL2RZ"
      }
    },
    {
      "cell_type": "markdown",
      "source": [
        "## Langkah pertama, buka cmd. Kemudian, buat file dengan cara\n",
        "`echo \"This is a test file.\" > test.txt`"
      ],
      "metadata": {
        "id": "U_zYabFajdqJ"
      }
    },
    {
      "cell_type": "markdown",
      "source": [
        "## Kemudian lihat file yang telah dibuat, dengan cara\n",
        "`cat test.txt`"
      ],
      "metadata": {
        "id": "YszfeO_oj9pd"
      }
    },
    {
      "cell_type": "markdown",
      "source": [
        "## Jelaskan maksud kode per baris, dan jalankan!"
      ],
      "metadata": {
        "id": "GQA3oqCcLvTD"
      }
    },
    {
      "cell_type": "code",
      "execution_count": null,
      "metadata": {
        "id": "3g445a-VLvTD"
      },
      "outputs": [],
      "source": [
        "from os.path import exists #Mengimport exist (untuk mengecek file kita ada atau tidak) dari library os.path\n",
        "from sys import argv #Mengimport argv dari library sys\n",
        "\n",
        "script, from_file, to_file = argv #Memberi value kepada argumen yang akan kita berikan nanti pada saat kita mengeksekusi melalui cmd (ada 3 argumen)\n",
        "\n",
        "print(f\"Copying from {from_file} to {to_file}\") #Mencetak string biasa dan value variabel \"from_file\" & \"to_file\" dengan menggunakan format f\n",
        "\n",
        "# we could do these two on one line too, how?\n",
        "in_file = open(from_file)\n",
        "indata = in_file.read()\n",
        "\n",
        "print(f\"The input file is {len(indata)} bytes long\") #Mencetak dengan format f seperti biasa & fungsi len adalah untuk mencetak kembali seberapa besar file yang kita inputkan kedalam fungsi tersebut\n",
        "\n",
        "print(f\"Does the output file exists? {exists(to_file)}\") #Mencetak dengan format f seperti biasa & fungsi exist untuk mengecek apakah file yang ingin kita duplikat sudah ada atau belom ? sisanya\n",
        "print(\"Ready, hit RETURN to continue, CTRL-C to abort.\") #Mencetak string biasa\n",
        "input()                                                  #Untuk menginputkan dari user (apakah user ingin lanjut ke program atau membatalkan operasi?)\n",
        "\n",
        "out_file = open(to_file, 'w')                            #Membuat variabel baru yang bertujuan untuk menduplikat test.txt \n",
        "out_file.write(indata)                                   #Menduplikat test.txt dengan menggunakan fungsi write ke dalam text yang baru (new_text.txt)\n",
        "\n",
        "print(\"Alright, all done.\")                              #Mencetak string biasa\n",
        "\n",
        "out_file.close()                                         #Menutup dan menyimpan file yang baru saja terduplikat (new_test.txt)\n",
        "in_file.close()                                          #Menutup dan menyimpan file yang dijadikan patokan duplikat (test.txt)\n"
      ]
    },
    {
      "cell_type": "markdown",
      "source": [
        "## Apakah kalian bisa membuat kode di atas menjadi lebih ringkas? Misanya satu baris? Coba yaaa!\n",
        "\n"
      ],
      "metadata": {
        "id": "RnNNwuZGLvTE"
      }
    },
    {
      "cell_type": "code",
      "source": [
        "#Bisa menggunakan indata = open(from_file).read()"
      ],
      "metadata": {
        "id": "7uipNMaXvuz3"
      },
      "execution_count": null,
      "outputs": []
    },
    {
      "cell_type": "markdown",
      "source": [
        "## Cari tahu mengapa Anda harus menulis out_file.close() dalam kode."
      ],
      "metadata": {
        "id": "m7XKk5Q3LvTE"
      }
    },
    {
      "cell_type": "code",
      "source": [
        "#Karena untuk menutup dan menyimpan konten yang baru saja di copy paste dari test.txt"
      ],
      "metadata": {
        "id": "jvFYF_mgLvTE"
      },
      "execution_count": null,
      "outputs": []
    },
    {
      "cell_type": "markdown",
      "source": [
        "# Exercise 18: Names, Variables, Code, Functions"
      ],
      "metadata": {
        "id": "U-T_614wMz9u"
      }
    },
    {
      "cell_type": "markdown",
      "source": [
        "## Jelaskan maksud kode per baris"
      ],
      "metadata": {
        "id": "57a96pgVMz9v"
      }
    },
    {
      "cell_type": "code",
      "execution_count": null,
      "metadata": {
        "id": "OID-aC-GMz9v",
        "colab": {
          "base_uri": "https://localhost:8080/"
        },
        "outputId": "c011c566-214d-4b30-8299-c870d739de89"
      },
      "outputs": [
        {
          "output_type": "stream",
          "name": "stdout",
          "text": [
            "arg1: Zed, arg2: Shaw\n",
            "arg1: Zed, arg2: Shaw\n",
            "arg1: First!\n",
            "I got nothin'.\n"
          ]
        }
      ],
      "source": [
        "# this one is like your scripts with argv\n",
        "def print_two(*args):                                                            #args bisa menampung lebih dari 1 value/variabel\n",
        "    arg1, arg2 = args                                                            #Misal, di dalam 1 variabel (args) ada 2 variabel yang berbeda (arg1, arg2)\n",
        "    print(f\"arg1: {arg1}, arg2: {arg2}\")                                         #mencetak string biasa dan mencetak value variabel yang akan diberikan nanti dengan format f\n",
        "\n",
        "\n",
        "# ok, that *args is actually pointless, we can just do this\n",
        "def print_two_again(arg1, arg2):                                                 # nah kalo ini langsung dibuat jadi 2, beda sama yang fungsi yang pertama (kalau yang pertama 1 variabel jadi 2 variabel)\n",
        "    print(f\"arg1: {arg1}, arg2: {arg2}\")                                         # mencetak string biasa dan mencetak value variabel yang akan diberikan nanti dengan format f\n",
        "\n",
        "\n",
        "# this just takes one argument\n",
        "def print_one(arg1):                                                             # kalo ini hanya mengambil 1 variabel\n",
        "    print(f\"arg1: {arg1}\")                                                       # mencetak string biasa dan mencetak value variabel yang akan diberikan nanti dengan format f\n",
        "\n",
        "\n",
        "# this one takes no arguments\n",
        "def print_none():                                                                #non variabel\n",
        "    print(\"I got nothin'.\")                                                      #Mencetak string biasa\n",
        "\n",
        "\n",
        "print_two(\"Zed\", \"Shaw\")                                                         #Memanggil fungsi dan memberi value kepada variabel di fungsi pertama (2 value)\n",
        "print_two_again(\"Zed\", \"Shaw\")                                                   #Memanggil fungsi memberi value kepada variabel di fungsi kedua (2 value)\n",
        "print_one(\"First!\")                                                              #Memanggil fungsi memberi value kepada variabel di fungsi ketiga (1 value)\n",
        "print_none()                                                                     #Memanggil fungsi saja tidak memberi value"
      ]
    },
    {
      "cell_type": "markdown",
      "source": [
        "## Write these checks on an index card and keep it by you while you complete the rest of these exercises\n",
        "\n",
        "1. Did you start your function definition with def?\n",
        "2. Does your function name have only characters and _ (underscore) characters?\n",
        "3. Did you put an open parenthesis ( right after the function name?\n",
        "4. Did you put your arguments after the parenthesis ( separated by commas?\n",
        "5. Did you make each argument unique (meaning no duplicated names)?\n",
        "6. Did you put a close parenthesis and a colon ): after the arguments?\n",
        "7. Did you indent all lines of code you want in the function four spaces? No more, no less.\n",
        "8. Did you ”end” your function by going back to writing with no indent (dedenting we call it)?"
      ],
      "metadata": {
        "id": "s7LO-nIlnEbj"
      }
    },
    {
      "cell_type": "code",
      "source": [
        "1. ya\n",
        "2. ya, karena underscore digunakan untuk memberi spasi pada variable\n",
        "3. ya\n",
        "4. ya, karena argumen/ parameter dapat ditulis dalam tanda kurung dan di pisahkan dengan tanda koma\n",
        "5. ya, tergantung kebutuhan\n",
        "6. ya\n",
        "7. ya \n",
        "8. tidak"
      ],
      "metadata": {
        "id": "ial6_2kpn1e6"
      },
      "execution_count": null,
      "outputs": []
    },
    {
      "cell_type": "markdown",
      "source": [
        "## When you run (”use” or ”call”) a function, check these things:\n",
        "\n",
        "1. Did you call/use/run this function by typing its name?\n",
        "2. Did you put the ( character after the name to run it?\n",
        "3. Did you put the values you want into the parenthesis separated by commas?\n",
        "4. Did you end the function call with a ) character?"
      ],
      "metadata": {
        "id": "0UbQjWren1p3"
      }
    },
    {
      "cell_type": "code",
      "source": [
        "1. ya\n",
        "2. ya \n",
        "3. ya \n",
        "4. ya"
      ],
      "metadata": {
        "id": "GTJid0OVn6Fr"
      },
      "execution_count": null,
      "outputs": []
    },
    {
      "cell_type": "markdown",
      "metadata": {
        "id": "qFQohpDqo8qm"
      },
      "source": [
        "## Warm Up"
      ]
    },
    {
      "cell_type": "markdown",
      "metadata": {
        "id": "vsewvJxzo8qn"
      },
      "source": [
        "#### LESSER OF TWO EVENS: Write a function that returns the lesser of two given numbers *if* both numbers are even, but returns the greater if one or both numbers are odd\n",
        "    lesser_of_two_evens(2,4) --> 2\n",
        "    lesser_of_two_evens(2,5) --> 5"
      ]
    },
    {
      "cell_type": "code",
      "execution_count": null,
      "metadata": {
        "collapsed": true,
        "id": "xPzFQ9pXo8qn"
      },
      "outputs": [],
      "source": [
        "def lesser_of_two_evens(a,b):\n",
        "    pass"
      ]
    },
    {
      "cell_type": "code",
      "execution_count": null,
      "metadata": {
        "collapsed": true,
        "id": "UKimQPrKo8qp"
      },
      "outputs": [],
      "source": [
        "# Check\n",
        "lesser_of_two_evens(2,4)"
      ]
    },
    {
      "cell_type": "code",
      "execution_count": null,
      "metadata": {
        "collapsed": true,
        "id": "Nr63F3ago8qp"
      },
      "outputs": [],
      "source": [
        "# Check\n",
        "lesser_of_two_evens(2,5)"
      ]
    },
    {
      "cell_type": "markdown",
      "metadata": {
        "id": "7sPFlCN6o8qq"
      },
      "source": [
        "#### ANIMAL CRACKERS: Write a function takes a two-word string and returns True if both words begin with same letter\n",
        "    animal_crackers('Levelheaded Llama') --> True\n",
        "    animal_crackers('Crazy Kangaroo') --> False"
      ]
    },
    {
      "cell_type": "code",
      "execution_count": null,
      "metadata": {
        "collapsed": true,
        "id": "BfQPLEybo8qr"
      },
      "outputs": [],
      "source": [
        "def animal_crackers(text):\n",
        "    pass"
      ]
    },
    {
      "cell_type": "code",
      "execution_count": null,
      "metadata": {
        "collapsed": true,
        "id": "0x_I-Zxoo8qt"
      },
      "outputs": [],
      "source": [
        "# Check\n",
        "animal_crackers('Levelheaded Llama')"
      ]
    },
    {
      "cell_type": "code",
      "execution_count": null,
      "metadata": {
        "collapsed": true,
        "id": "pW8KGgUZo8qu"
      },
      "outputs": [],
      "source": [
        "# Check\n",
        "animal_crackers('Crazy Kangaroo')"
      ]
    },
    {
      "cell_type": "markdown",
      "metadata": {
        "id": "Y7O1mkBho8qv"
      },
      "source": [
        "#### MAKES TWENTY: Given two integers, return True if the sum of the integers is 20 *or* if one of the integers is 20. If not, return False\n",
        "\n",
        "    makes_twenty(20,10) --> True\n",
        "    makes_twenty(12,8) --> True\n",
        "    makes_twenty(2,3) --> False"
      ]
    },
    {
      "cell_type": "code",
      "execution_count": null,
      "metadata": {
        "collapsed": true,
        "id": "drj0vqvUo8qw"
      },
      "outputs": [],
      "source": [
        "def makes_twenty(n1,n2):\n",
        "    pass"
      ]
    },
    {
      "cell_type": "code",
      "execution_count": null,
      "metadata": {
        "collapsed": true,
        "id": "mcU3FzAmo8qx"
      },
      "outputs": [],
      "source": [
        "# Check\n",
        "makes_twenty(20,10)"
      ]
    },
    {
      "cell_type": "code",
      "execution_count": null,
      "metadata": {
        "collapsed": true,
        "id": "6XKDf-Pyo8qy"
      },
      "outputs": [],
      "source": [
        "# Check\n",
        "makes_twenty(2,3)"
      ]
    },
    {
      "cell_type": "markdown",
      "metadata": {
        "id": "maxVMDnRo8qz"
      },
      "source": [
        "## Problems"
      ]
    },
    {
      "cell_type": "markdown",
      "metadata": {
        "id": "PjN0IT7xo8qz"
      },
      "source": [
        "#### OLD MACDONALD: Write a function that capitalizes the first and fourth letters of a name\n",
        "     \n",
        "    old_macdonald('macdonald') --> MacDonald\n",
        "    \n",
        "Note: `'macdonald'.capitalize()` returns `'Macdonald'`"
      ]
    },
    {
      "cell_type": "code",
      "execution_count": null,
      "metadata": {
        "collapsed": true,
        "id": "YjlbOv0Lo8q0"
      },
      "outputs": [],
      "source": [
        "def old_macdonald(name):\n",
        "    pass"
      ]
    },
    {
      "cell_type": "code",
      "execution_count": null,
      "metadata": {
        "collapsed": true,
        "id": "PmY98NIAo8q0"
      },
      "outputs": [],
      "source": [
        "# Check\n",
        "old_macdonald('macdonald')"
      ]
    },
    {
      "cell_type": "markdown",
      "metadata": {
        "id": "BkocM0tHo8q0"
      },
      "source": [
        "#### MASTER YODA: Given a sentence, return a sentence with the words reversed\n",
        "\n",
        "    master_yoda('I am home') --> 'home am I'\n",
        "    master_yoda('We are ready') --> 'ready are We'\n",
        "    \n",
        "Note: The .join() method may be useful here. The .join() method allows you to join together strings in a list with some connector string. For example, some uses of the .join() method:\n",
        "\n",
        "    >>> \"--\".join(['a','b','c'])\n",
        "    >>> 'a--b--c'\n",
        "\n",
        "This means if you had a list of words you wanted to turn back into a sentence, you could just join them with a single space string:\n",
        "\n",
        "    >>> \" \".join(['Hello','world'])\n",
        "    >>> \"Hello world\""
      ]
    },
    {
      "cell_type": "code",
      "execution_count": null,
      "metadata": {
        "collapsed": true,
        "id": "f3IqrMmco8q1"
      },
      "outputs": [],
      "source": [
        "def master_yoda(text):\n",
        "    pass"
      ]
    },
    {
      "cell_type": "code",
      "execution_count": null,
      "metadata": {
        "collapsed": true,
        "id": "uiuG8Oceo8q1"
      },
      "outputs": [],
      "source": [
        "# Check\n",
        "master_yoda('I am home')"
      ]
    },
    {
      "cell_type": "code",
      "execution_count": null,
      "metadata": {
        "collapsed": true,
        "id": "R4GdNfnjo8q2"
      },
      "outputs": [],
      "source": [
        "# Check\n",
        "master_yoda('We are ready')"
      ]
    },
    {
      "cell_type": "markdown",
      "metadata": {
        "id": "f-PsSEIEo8q2"
      },
      "source": [
        "#### ALMOST THERE: Given an integer n, return True if n is within 10 of either 100 or 200\n",
        "\n",
        "    almost_there(90) --> True\n",
        "    almost_there(104) --> True\n",
        "    almost_there(150) --> False\n",
        "    almost_there(209) --> True\n",
        "    \n",
        "NOTE: `abs(num)` returns the absolute value of a number"
      ]
    },
    {
      "cell_type": "code",
      "execution_count": null,
      "metadata": {
        "collapsed": true,
        "id": "0Zxlzhyko8q2"
      },
      "outputs": [],
      "source": [
        "def almost_there(n):\n",
        "    pass"
      ]
    },
    {
      "cell_type": "code",
      "execution_count": null,
      "metadata": {
        "collapsed": true,
        "id": "pcXeiqdOo8q3"
      },
      "outputs": [],
      "source": [
        "# Check\n",
        "almost_there(104)"
      ]
    },
    {
      "cell_type": "code",
      "execution_count": null,
      "metadata": {
        "collapsed": true,
        "id": "T_H4X0JSo8q3"
      },
      "outputs": [],
      "source": [
        "# Check\n",
        "almost_there(150)"
      ]
    },
    {
      "cell_type": "code",
      "execution_count": null,
      "metadata": {
        "collapsed": true,
        "id": "wFLfckSzo8q3"
      },
      "outputs": [],
      "source": [
        "# Check\n",
        "almost_there(209)"
      ]
    },
    {
      "cell_type": "markdown",
      "source": [
        "# Exercise 19: Functions And Variables"
      ],
      "metadata": {
        "id": "6ONWCJguNCh5"
      }
    },
    {
      "cell_type": "markdown",
      "source": [
        "## Jelaskan maksud kode per baris"
      ],
      "metadata": {
        "id": "erJyCZYQNCh6"
      }
    },
    {
      "cell_type": "code",
      "execution_count": null,
      "metadata": {
        "id": "AqRXzSEZNCh7",
        "colab": {
          "base_uri": "https://localhost:8080/"
        },
        "outputId": "631bcc48-9dbb-4de1-ab27-72114ca27a06"
      },
      "outputs": [
        {
          "output_type": "stream",
          "name": "stdout",
          "text": [
            "We can just give the function numbers directly:\n",
            "You have 20 cheeses!\n",
            "You have 30 boxes of crackers!\n",
            "Man that's enought for a party!\n",
            "Get a blanket.\n",
            "\n",
            "OR, we can use variables from our script:\n",
            "You have 10 cheeses!\n",
            "You have 50 boxes of crackers!\n",
            "Man that's enought for a party!\n",
            "Get a blanket.\n",
            "\n",
            "We can even do math inside too:\n",
            "You have 30 cheeses!\n",
            "You have 11 boxes of crackers!\n",
            "Man that's enought for a party!\n",
            "Get a blanket.\n",
            "\n",
            "And we can combine the two, variables and math:\n",
            "You have 110 cheeses!\n",
            "You have 1050 boxes of crackers!\n",
            "Man that's enought for a party!\n",
            "Get a blanket.\n",
            "\n"
          ]
        }
      ],
      "source": [
        "def cheese_and_crackers(cheese_count, boxes_of_crackers):                #Mendefinisikan suatu fungsi dengan variabel (cheese_and_crackers), yang dimana variabel ini dapat menampung 2 value yaitu (cheese_count, boxes_of_crackers)\n",
        "    print(f\"You have {cheese_count} cheeses!\")                           #Mencetak string dengan format f, jika fungsi diberi value nantinya akan keluar value tersebut.\n",
        "    print(f\"You have {boxes_of_crackers} boxes of crackers!\")            #Mencetak string dengan format f, jika fungsi diberi value nantinya akan keluar value tersebut.\n",
        "    print(\"Man that's enought for a party!\")                             #Mencetak string biasa\n",
        "    print(\"Get a blanket.\\n\")                                            #Mencetak string biasa, dan juga membuat spasi kebawah (seperti enter di word)\n",
        "\n",
        "\n",
        "print(\"We can just give the function numbers directly:\")                 #Memberi value secara langsung terhadap variabel cheese_count & boxes_of_crackers dengan memasukan value kedalam kurung tersebut (karena sebelumnya ada 2 variabel yang di deklarasikan di fungsi def, jadi harus 2 value juga)\n",
        "cheese_and_crackers(20, 30)                                              #Memberi value secara langsung\n",
        "\n",
        "print(\"OR, we can use variables from our script:\")                       #Kita bisa menggunakan variabel baru\n",
        "amount_of_cheese = 10                                                    #Membuat variabel baru dan juga langsung memberikan variabel tersebut value\n",
        "amount_of_crackers = 50                                                  #Membuat variabel baru dan juga langsung memberikan variabel tersebut value\n",
        "\n",
        "cheese_and_crackers(amount_of_cheese, amount_of_crackers)                #Menukar variabel yang awalnya di set def (cheese_count, boxes_of_crackers), kita ubah sekarang menjadi variabel yang punya kita yaitu (amount_of_cheese, amount_of_crackers)\n",
        "\n",
        "print(\"We can even do math inside too:\")                                 #Langsung melakukan operasi matematika di dalam def itu\n",
        "cheese_and_crackers(10 + 20, 5 + 6)                                      #Jadi yang di dalam kurung langsung operasi matematika, dan juga tidak lupa ada tanda koma \",\" untuk memisahkan 2 variabel yang akan dicetak nanti\n",
        "\n",
        "print(\"And we can combine the two, variables and math:\")                 #Kita bisa mengkombinasikan variabel buatan kita sekaligus melakukan operasi matematika di dalam kurung tersebut\n",
        "cheese_and_crackers(amount_of_cheese + 100, amount_of_crackers + 1000)   #Contoh kombinasinya.\n"
      ]
    },
    {
      "cell_type": "markdown",
      "source": [
        "# Exercise 20: Functions And Files\n",
        "Jangan jalankan di .ipynb"
      ],
      "metadata": {
        "id": "AOq96W3oNe92"
      }
    },
    {
      "cell_type": "markdown",
      "source": [
        "## Jelaskan maksud kode per baris\n",
        "buat file baru, beri nama ex20.py"
      ],
      "metadata": {
        "id": "IPZJd0gaNe92"
      }
    },
    {
      "cell_type": "code",
      "execution_count": null,
      "metadata": {
        "id": "tlKKcKOiNe93"
      },
      "outputs": [],
      "source": [
        "from sys import argv                               #Mengimport argv dari library sys\n",
        "\n",
        "script, input_file = argv                          #Memberi value kepada argumen yang akan kita berikan nanti pada saat kita mengeksekusi melalui cmd (ada 2 value)\n",
        "\n",
        "\n",
        "def print_all(f):                                  #Mendefinisikan fungsi dengan variabel print_all, yang dimana value dari variabel ini adalah f\n",
        "    print(f.read())                                #fungsi print all ini berguna untuk mencetak file txt, dengan menggunakan fungsi read (ya walaupun sebenernya ga ngaruh juga)\n",
        "\n",
        "def rewind(f):                                     # mendeklarasikan / mendefinisikan fungsi dengan variabel rewind, dengan value yang masih sama yaitu f\n",
        "    f.seek(0)                                      # kurang tau bang kalo yang ini :)??\n",
        "\n",
        "\n",
        "def print_a_line(line_count, f):                   #Membuat fungsi untuk membaca seberapa banyak line suatu text\n",
        "    print(line_count, f.readline())                #Fungsi readline() untuk membaca seberapa banyak line di dalam suatu text tersebut\n",
        "\n",
        "\n",
        "current_file = open(input_file)                    #Perintah untuk membuka file txt yang akan kita baca\n",
        "\n",
        "print(\"First let's print the whole file:\\n\")       #Mencetak string biasa\n",
        "\n",
        "print_all(current_file)                            #Memanggil fungsi print_all untuk mencetak kembali text di tersebut program\n",
        "\n",
        "print(\"Now let's rewind, kind of like a tape.\")    #Mencetak string biasa\n",
        "\n",
        "rewind(current_file)                               #Memanggil fungsi rewind untuk mengulang???\n",
        "\n",
        "print(\"Let's print three lines:\")                  #Mencetak string biasa\n",
        "\n",
        "current_line = 1                                   #Ngasih tau kalo yang bakal dicetak itu line yang pertama (MAAF YA BANG KALO JELASINNYA PAKE BAHASA SENDIRI)\n",
        "print_a_line(current_line, current_file)           #Mencetak line ke 1\n",
        "\n",
        "current_line = current_line + 1                    #Line yang dicetak line kedua (1 + 1 = 2)\n",
        "print_a_line(current_line, current_file)           #Mencetak line ke 2\n",
        "\n",
        "current_line = current_line + 1                    #Line yang dicetak line ketiga (2 + 1 = 3)\n",
        "print_a_line(current_line, current_file)           #Mencetak line ke 3\n"
      ]
    },
    {
      "cell_type": "markdown",
      "source": [
        "Jalankan code dengan cara\n",
        "\n",
        "\n",
        "```\n",
        "python ex20.py test.txt\n",
        "```\n",
        "\n"
      ],
      "metadata": {
        "id": "NT5JtcNPqiaq"
      }
    }
  ]
}