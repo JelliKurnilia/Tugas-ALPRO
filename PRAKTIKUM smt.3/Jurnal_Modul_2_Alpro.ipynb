{
  "nbformat": 4,
  "nbformat_minor": 0,
  "metadata": {
    "colab": {
      "provenance": [],
      "collapsed_sections": [
        "ZFnnRzziGmWJ",
        "M_KPDHSGHgo2"
      ]
    },
    "kernelspec": {
      "name": "python3",
      "display_name": "Python 3"
    },
    "language_info": {
      "name": "python"
    }
  },
  "cells": [
    {
      "cell_type": "markdown",
      "source": [
        "# Exercise 1: A Good first program"
      ],
      "metadata": {
        "id": "ZFnnRzziGmWJ"
      }
    },
    {
      "cell_type": "markdown",
      "source": [
        "## Jelaskan maksud kode per baris"
      ],
      "metadata": {
        "id": "W_1O34kUHJ-F"
      }
    },
    {
      "cell_type": "code",
      "execution_count": null,
      "metadata": {
        "id": "kUHhArx1GjDO"
      },
      "outputs": [],
      "source": [
        "print(\"Hello World!\")\n",
        "\n",
        "print(\"Hello Again\")\n",
        "print(\"I like typing this.\")\n",
        "print(\"This is fun.\")\n",
        "print('Yay! Printing.')\n",
        "print(\"I'd much rather you 'not'.\")\n",
        "print('I \"said\" do not touch this.')"
      ]
    },
    {
      "cell_type": "markdown",
      "source": [
        "## Bagaimana cara supaya hanya mencetak baris pertama?"
      ],
      "metadata": {
        "id": "SF81PVAUHPeW"
      }
    },
    {
      "cell_type": "code",
      "source": [],
      "metadata": {
        "id": "hnUARA6dHTgm"
      },
      "execution_count": null,
      "outputs": []
    },
    {
      "cell_type": "markdown",
      "source": [
        "## Apakah fungsi dari simbol # (octothorpe)?"
      ],
      "metadata": {
        "id": "dgYBT6dzHT5t"
      }
    },
    {
      "cell_type": "code",
      "source": [],
      "metadata": {
        "id": "eXsOtcaiHcN0"
      },
      "execution_count": null,
      "outputs": []
    },
    {
      "cell_type": "markdown",
      "source": [
        "# Exercise 2: Comments and Pound Character\n"
      ],
      "metadata": {
        "id": "M_KPDHSGHgo2"
      }
    },
    {
      "cell_type": "markdown",
      "source": [
        "## Jelaskan maksud kode per baris"
      ],
      "metadata": {
        "id": "h_plF8hhHgo2"
      }
    },
    {
      "cell_type": "code",
      "execution_count": null,
      "metadata": {
        "id": "sNJCAqkpHgo2"
      },
      "outputs": [],
      "source": [
        "# A comment, this is so you can read your program later.\n",
        "# Anything after the # is ignored by pyhton.\n",
        "\n",
        "print(\"I could have code like this.\")  # and the comment after is ignored\n",
        "\n",
        "# You can also use a comment to \"disable\" or comment out a piece of code:\n",
        "# print (\"This won't run.\")\n",
        "\n",
        "print(\"This will run.\")"
      ]
    },
    {
      "cell_type": "markdown",
      "source": [
        "## Bagaimana supaya kode pada baris 7 dapat dieksekusi? Jalankan kodenya!"
      ],
      "metadata": {
        "id": "lB26TUnSHgo2"
      }
    },
    {
      "cell_type": "code",
      "source": [],
      "metadata": {
        "id": "zGht_qGdHgo3"
      },
      "execution_count": null,
      "outputs": []
    },
    {
      "cell_type": "markdown",
      "source": [
        "## Dimana saja simbol # (octothorpe) dapat digunakan? Berikan contoh!"
      ],
      "metadata": {
        "id": "3BWgtkrHHgo3"
      }
    },
    {
      "cell_type": "code",
      "source": [],
      "metadata": {
        "id": "Nc5Nb3waHgo3"
      },
      "execution_count": null,
      "outputs": []
    },
    {
      "cell_type": "markdown",
      "source": [
        "# Exercise 3: Numbers and Math\n"
      ],
      "metadata": {
        "id": "GnrqihmQIF_c"
      }
    },
    {
      "cell_type": "markdown",
      "source": [
        "## Jelaskan maksud kode per baris"
      ],
      "metadata": {
        "id": "4sIKJ-BGIF_d"
      }
    },
    {
      "cell_type": "code",
      "execution_count": null,
      "metadata": {
        "id": "jlw9cjunIF_d"
      },
      "outputs": [],
      "source": [
        "print(\"I will now count my chickens:\")\n",
        "\n",
        "print(\"Hens\", 25 + 30 / 6)\n",
        "print(\"Rosters\", 100 - 25 * 3 % 4)\n",
        "\n",
        "print(\"Now I will count the eggs:\")\n",
        "\n",
        "print(round(3 + 2 + 1 - 5 + 4 % 2 - 1 / 4 + 6))\n",
        "\n",
        "print(\"Is it true that 3 + 2 < 5 - 7?\")\n",
        "\n",
        "print(3 + 2 < 5 - 7)\n",
        "\n",
        "print(\"What is 3 + 2?\", 3 + 2)\n",
        "print(\"What is 5 - 7?\", 5 - 7)\n",
        "\n",
        "print(\"Oh, that's why it's False.\")\n",
        "\n",
        "print(\"How about some more.\")\n",
        "\n",
        "print(\"It is greater?\", 5 > -2)\n",
        "print(\"It is greater or equal?\", 5 >= -2)\n",
        "print(\"It is less or equal?\", 5 <= -2)"
      ]
    },
    {
      "cell_type": "code",
      "source": [],
      "metadata": {
        "id": "m4SMo2NzImT-"
      },
      "execution_count": null,
      "outputs": []
    },
    {
      "cell_type": "markdown",
      "source": [
        "## Jelaskan maksud tiap simbol matematika ini, beri contohnya!\n",
        "This exercise has lots of math symbols. \n",
        "\n",
        "\n",
        "```\n",
        "+ plus\n",
        "- minus\n",
        "/ slash\n",
        "* asterisk\n",
        "% percent\n",
        "< less-than\n",
        "> greater-than\n",
        "<= less-than-equal\n",
        ">= greater-than-equal\n",
        "```\n",
        "\n"
      ],
      "metadata": {
        "id": "1JemeyZkIF_e"
      }
    },
    {
      "cell_type": "code",
      "source": [],
      "metadata": {
        "id": "oV8ul5YhIF_e"
      },
      "execution_count": null,
      "outputs": []
    },
    {
      "cell_type": "markdown",
      "source": [
        "## Supaya lebih akurat, kita dapat menggunakan floating point. Edit baris 3 kode di atas sehingga tipe datanya menjadi float!"
      ],
      "metadata": {
        "id": "yjYucBkkIF_e"
      }
    },
    {
      "cell_type": "markdown",
      "source": [
        "# Exercise 4: Variables and Name\n",
        "\n"
      ],
      "metadata": {
        "id": "3tMQgwybJMPH"
      }
    },
    {
      "cell_type": "markdown",
      "source": [
        "## Jelaskan maksud kode per baris"
      ],
      "metadata": {
        "id": "1m2uU1tRJMPH"
      }
    },
    {
      "cell_type": "code",
      "execution_count": null,
      "metadata": {
        "id": "3-s1CdOpJMPI"
      },
      "outputs": [],
      "source": [
        "cars = 100\n",
        "space_in_a_car = 4.0\n",
        "drivers = 30\n",
        "# passengers = 90\n",
        "cars_not_driven = cars - drivers\n",
        "cars_driven = drivers\n",
        "# carpool_capacity = cars_driven * space_in_a_car\n",
        "average_passengers_per_car = passengers / cars_driven\n",
        "\n",
        "print(\"There are\", cars, \"cars available.\")\n",
        "print(\"There are only\", drivers, \"drivers available.\")\n",
        "print(\"There will be\", cars_not_driven, \"empty cars today\")\n",
        "print(\"We can transport\", carpool_capacity, \"people today.\")\n",
        "print(\"We have\", passenger, \"to carpool today.\")\n",
        "print(\"We need to put about\", average_passengers_per_car, \"in each car.\")"
      ]
    },
    {
      "cell_type": "markdown",
      "source": [
        "## Apakah kode di atas dapat dijalankan? Jika tidak, tolong perbaiki code di atas! \n",
        "\n"
      ],
      "metadata": {
        "id": "UqP8fxwaJMPI"
      }
    },
    {
      "cell_type": "code",
      "source": [],
      "metadata": {
        "id": "Q9PXAdCyJMPJ"
      },
      "execution_count": null,
      "outputs": []
    },
    {
      "cell_type": "markdown",
      "source": [
        "## Pada variabel space_in_a_car, digunakan nilai 4.0 . Apakah akan terjadi error jika diubah menjadi 4? Apa yang terjadi? "
      ],
      "metadata": {
        "id": "YMqkQcohJMPJ"
      }
    },
    {
      "cell_type": "code",
      "source": [],
      "metadata": {
        "id": "gd-iInD7JMPJ"
      },
      "execution_count": null,
      "outputs": []
    },
    {
      "cell_type": "markdown",
      "source": [
        "## Apakah maksud dari simbol = dan bagaimana format penamaan variabel di Python? Berikan contohnya!"
      ],
      "metadata": {
        "id": "mpOPwunzJHeP"
      }
    },
    {
      "cell_type": "code",
      "source": [],
      "metadata": {
        "id": "0b5GizDPKLCH"
      },
      "execution_count": null,
      "outputs": []
    },
    {
      "cell_type": "markdown",
      "source": [
        "# Exercise 5: More Variables and Printing"
      ],
      "metadata": {
        "id": "v80B5ZQ9KTNy"
      }
    },
    {
      "cell_type": "markdown",
      "source": [
        "## Jelaskan maksud kode per baris"
      ],
      "metadata": {
        "id": "gi7G4a_uKTNy"
      }
    },
    {
      "cell_type": "code",
      "execution_count": null,
      "metadata": {
        "id": "kzGgrHDhKTNy"
      },
      "outputs": [],
      "source": [
        "my_name = 'Zed A. Shaw'\n",
        "my_age = 35  # not a lie\n",
        "my_height = 74  # inches\n",
        "my_weight = 180  # lbs\n",
        "my_eyes = 'Blue'\n",
        "my_teeth = 'White'\n",
        "my_hair = 'Brown'\n",
        "\n",
        "print(f\"Let's talk about {my_name}.\")\n",
        "print(f\"He's {my_height} inches tall.\")\n",
        "print(f\"He's {my_weight} pounds heavy.\")\n",
        "print(\"Actually that's not too heavy.\")\n",
        "print(f\"He's got {my_eyes} eyes and {my_hair} hair.\")\n",
        "print(f\"His teeth are usually {my_teeth} depending on the coffee.\")\n",
        "\n",
        "# this line is tricky, try to get it exactly right\n",
        "total = my_age + my_height + my_weight\n",
        "print(f\"If I add {my_age}, {my_height}, and {my_weight} I get {total}.\")\n"
      ]
    },
    {
      "cell_type": "markdown",
      "source": [
        "## Ubah semua variabel sehingga tidak ada my_ di depan masing-masing variabel. Pastikan Anda mengubah nama di mana-mana, bukan hanya di tempat Anda menggunakan = untuk mengaturnya.\n",
        "\n"
      ],
      "metadata": {
        "id": "KWv_yA90KTNy"
      }
    },
    {
      "cell_type": "code",
      "source": [],
      "metadata": {
        "id": "abLnEv32KTNz"
      },
      "execution_count": null,
      "outputs": []
    },
    {
      "cell_type": "markdown",
      "source": [
        "## Cobalah untuk menulis beberapa variabel yang mengubah inci dan pound menjadi sentimeter dan kilogram."
      ],
      "metadata": {
        "id": "ibaIBNHuKTNz"
      }
    },
    {
      "cell_type": "code",
      "source": [],
      "metadata": {
        "id": "WoXzZxMyKTNz"
      },
      "execution_count": null,
      "outputs": []
    },
    {
      "cell_type": "markdown",
      "source": [
        "## Bagaimana cara kerja format-string, atau f-string? Berikan contohnya!"
      ],
      "metadata": {
        "id": "uE3N9ApYKTNz"
      }
    },
    {
      "cell_type": "code",
      "source": [],
      "metadata": {
        "id": "1XjofeRgKTNz"
      },
      "execution_count": null,
      "outputs": []
    },
    {
      "cell_type": "markdown",
      "source": [
        "# Exercise 6: More Variables and Printing"
      ],
      "metadata": {
        "id": "sj88di8YLw7y"
      }
    },
    {
      "cell_type": "markdown",
      "source": [
        "## Jelaskan maksud kode per baris"
      ],
      "metadata": {
        "id": "i691Sf8ULw7z"
      }
    },
    {
      "cell_type": "code",
      "execution_count": null,
      "metadata": {
        "id": "keEOS60OLw7z"
      },
      "outputs": [],
      "source": [
        "types_of_people = 10\n",
        "x = f\"There are {types_of_people} types of people.\"\n",
        "\n",
        "binary = \"binary\"\n",
        "do_not = \"don't\"\n",
        "y = f\"Those who know {binary} and those who {do_not}.\"\n",
        "\n",
        "print(x)\n",
        "print(y)\n",
        "\n",
        "print(f\"I said: {x}\")\n",
        "print(f\"I also said : '{y}'.\")\n",
        "\n",
        "hilarious = False\n",
        "joke_evaluation = \"Isn't that joke so funny?! {}\"\n",
        "\n",
        "print(joke_evaluation.format(hilarious))\n",
        "\n",
        "w = \"This is the left side of...\"\n",
        "e = \"a string with a right side.\"\n",
        "\n",
        "print(w + e)"
      ]
    },
    {
      "cell_type": "markdown",
      "source": [
        "## Jika kita lihat di code, terdapat method .format pada object string. Apakah itu .method? Bagaimana cara kerjanya?\n",
        "\n"
      ],
      "metadata": {
        "id": "_Ff0lOyMLw7z"
      }
    },
    {
      "cell_type": "code",
      "source": [],
      "metadata": {
        "id": "59owZHvhLw7z"
      },
      "execution_count": null,
      "outputs": []
    },
    {
      "cell_type": "markdown",
      "source": [
        "## Lihat pada baris terakhir pada kode di atas. Apa yang terjadi?"
      ],
      "metadata": {
        "id": "WiWXdZxlLw7z"
      }
    },
    {
      "cell_type": "code",
      "source": [],
      "metadata": {
        "id": "BJY0gJE1Lw7z"
      },
      "execution_count": null,
      "outputs": []
    },
    {
      "cell_type": "markdown",
      "source": [
        "# Exercise 7: More Printing"
      ],
      "metadata": {
        "id": "5y4yBvNBL2RZ"
      }
    },
    {
      "cell_type": "markdown",
      "source": [
        "## Jelaskan maksud kode per baris"
      ],
      "metadata": {
        "id": "GQA3oqCcLvTD"
      }
    },
    {
      "cell_type": "code",
      "execution_count": null,
      "metadata": {
        "id": "3g445a-VLvTD"
      },
      "outputs": [],
      "source": [
        "print(\"Mary had a little lamb.\")\n",
        "print(\"Its fleece was white as {}.\".format('snow'))\n",
        "print(\"And everywhere that Mary went.\")\n",
        "print(\".\" * 10)  # what'd that do?\n",
        "\n",
        "end1 = \"C\"\n",
        "end2 = \"h\"\n",
        "end3 = \"e\"\n",
        "end4 = \"e\"\n",
        "end5 = \"s\"\n",
        "end6 = \"e\"\n",
        "end7 = \"B\"\n",
        "end8 = \"u\"\n",
        "end9 = \"r\"\n",
        "end10 = \"g\"\n",
        "end11 = \"e\"\n",
        "end12 = \"r\"\n",
        "\n",
        "print(end1 + end2 + end3 + end4 + end5 + end6, end=' ')\n",
        "print(end7 + end8 + end9 + end10 + end11 + end12)"
      ]
    },
    {
      "cell_type": "markdown",
      "source": [
        "## Apakah yang terjadi pada baris ke empat pada kode di atas?\n",
        "\n"
      ],
      "metadata": {
        "id": "RnNNwuZGLvTE"
      }
    },
    {
      "cell_type": "code",
      "source": [],
      "metadata": {
        "id": "CseAjMRiLvTE"
      },
      "execution_count": null,
      "outputs": []
    },
    {
      "cell_type": "markdown",
      "source": [
        "## Apakah maksud dari parameter end=' ' pada print()? "
      ],
      "metadata": {
        "id": "m7XKk5Q3LvTE"
      }
    },
    {
      "cell_type": "code",
      "source": [],
      "metadata": {
        "id": "jvFYF_mgLvTE"
      },
      "execution_count": null,
      "outputs": []
    },
    {
      "cell_type": "markdown",
      "source": [
        "# Exercise 8: Printing, Printing"
      ],
      "metadata": {
        "id": "U-T_614wMz9u"
      }
    },
    {
      "cell_type": "markdown",
      "source": [
        "## Jelaskan maksud kode per baris"
      ],
      "metadata": {
        "id": "57a96pgVMz9v"
      }
    },
    {
      "cell_type": "code",
      "execution_count": null,
      "metadata": {
        "id": "OID-aC-GMz9v"
      },
      "outputs": [],
      "source": [
        "formatter = \"{} {} {} {}\"\n",
        "\n",
        "print(formatter.format(1, 2, 3, 4))\n",
        "print(formatter.format(\"one\", \"two\", \"three\", \"four\"))\n",
        "print(formatter.format(True, False, False, True))\n",
        "print(formatter.format(formatter, formatter, formatter, formatter))\n",
        "print(formatter.format(\"Try your\",\n",
        "                       \"Own text here\",\n",
        "                       \"Maybe a poem\",\n",
        "                       \"Or a song about fear\"\n",
        "                       ))"
      ]
    },
    {
      "cell_type": "markdown",
      "source": [
        "# Exercise 9: Printing, Printing, Printing"
      ],
      "metadata": {
        "id": "6ONWCJguNCh5"
      }
    },
    {
      "cell_type": "markdown",
      "source": [
        "## Jelaskan maksud kode per baris"
      ],
      "metadata": {
        "id": "erJyCZYQNCh6"
      }
    },
    {
      "cell_type": "code",
      "execution_count": null,
      "metadata": {
        "id": "AqRXzSEZNCh7"
      },
      "outputs": [],
      "source": [
        "# Here's some new strange stuff, remember type it exactly.\n",
        "\n",
        "days = \"Mon Tue Wed Thu Fri Sat Sun\"\n",
        "months = \"Jan\\tFeb\\tMar\\tApr\\tMay\\tJun\\tJul\\tAug\"\n",
        "\n",
        "# \"\\t\" -> new line\n",
        "\n",
        "print(\"Here are the days:\", days)\n",
        "print(\"Here are the months: \", months)\n",
        "\n",
        "print(\"\"\"\n",
        "There's something going on here.\n",
        "With the three double-quotes.\n",
        "We'll be able to type as much as we like.\n",
        "Even 4 lines if we want, or 5, or 6.\n",
        "\"\"\")"
      ]
    },
    {
      "cell_type": "markdown",
      "source": [
        "## Apakah maksud dari \\t pada kode di atas? "
      ],
      "metadata": {
        "id": "ZthG8NhzNOL4"
      }
    },
    {
      "cell_type": "code",
      "source": [],
      "metadata": {
        "id": "xpbveld_NMr4"
      },
      "execution_count": null,
      "outputs": []
    },
    {
      "cell_type": "markdown",
      "source": [
        "## Untuk membuat baris baru pada print, kita dapat menggunakan \\n. Apakah ada perbedaan jika menggunakan \\n dan \"\"\"?"
      ],
      "metadata": {
        "id": "elew7bZaNU5l"
      }
    },
    {
      "cell_type": "code",
      "source": [],
      "metadata": {
        "id": "NWXMRzV6Nb-L"
      },
      "execution_count": null,
      "outputs": []
    },
    {
      "cell_type": "markdown",
      "source": [
        "# Exercise 10: What Was That?"
      ],
      "metadata": {
        "id": "AOq96W3oNe92"
      }
    },
    {
      "cell_type": "markdown",
      "source": [
        "## Jelaskan maksud kode per baris"
      ],
      "metadata": {
        "id": "IPZJd0gaNe92"
      }
    },
    {
      "cell_type": "code",
      "execution_count": null,
      "metadata": {
        "id": "tlKKcKOiNe93"
      },
      "outputs": [],
      "source": [
        "tabby_cat = \"\\tI'm tabbed in.\"\n",
        "persian_cat = \"I'm split\\non a line.\"\n",
        "backslash_cat = \"I'm \\\\ a \\\\ cat.\"\n",
        "\n",
        "fat_cat = \"\"\"\n",
        "I'll do a list:\n",
        "\\t* Cat food\n",
        "\\t* Fishes\n",
        "\\t* Catnip\\n\\t* Grass\n",
        "\"\"\"\n",
        "\n",
        "print(tabby_cat)\n",
        "print(persian_cat)\n",
        "print(backslash_cat)\n",
        "print(fat_cat)\n"
      ]
    },
    {
      "cell_type": "markdown",
      "source": [
        "## Apakah escape character itu?"
      ],
      "metadata": {
        "id": "AH30J2vWNe93"
      }
    },
    {
      "cell_type": "code",
      "source": [],
      "metadata": {
        "id": "0-BUnByiNe93"
      },
      "execution_count": null,
      "outputs": []
    },
    {
      "cell_type": "markdown",
      "source": [
        "## Bayangkan kita mempunyai kode \n",
        "\n",
        "\n",
        "```\n",
        "tabby_cat = 'I'm tabbed in.'\n",
        "```\n",
        "yang jika dijalankan akan menghasilkan error. Bagaimana cara untuk mengatasi hal tersebut menggunakan escape character?\n"
      ],
      "metadata": {
        "id": "UFHxVjIUNvHp"
      }
    },
    {
      "cell_type": "code",
      "source": [],
      "metadata": {
        "id": "C4schOA1N7ZM"
      },
      "execution_count": null,
      "outputs": []
    }
  ]
}