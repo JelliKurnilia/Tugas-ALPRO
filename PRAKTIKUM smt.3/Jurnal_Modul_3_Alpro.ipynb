{
  "cells": [
    {
      "cell_type": "markdown",
      "metadata": {
        "id": "ZFnnRzziGmWJ"
      },
      "source": [
        "# Exercise 11: Asking Questions"
      ]
    },
    {
      "cell_type": "markdown",
      "metadata": {
        "id": "W_1O34kUHJ-F"
      },
      "source": [
        "## Jelaskan maksud kode per baris"
      ]
    },
    {
      "cell_type": "code",
      "execution_count": 2,
      "metadata": {
        "id": "kUHhArx1GjDO"
      },
      "outputs": [
        {
          "name": "stdout",
          "output_type": "stream",
          "text": [
            "How old are you? How tall are you? How much do you weight? So, you're 20 old, 150 tall and 45 heavy.\n"
          ]
        }
      ],
      "source": [
        "print(\"How old are you?\", end=' ')\n",
        "age = input()\n",
        "print(\"How tall are you?\", end=' ')\n",
        "height = input()\n",
        "print(\"How much do you weight?\", end=' ')\n",
        "weight = input()\n",
        "\n",
        "print(f\"So, you're {age} old, {height} tall and {weight} heavy.\")"
      ]
    },
    {
      "cell_type": "markdown",
      "metadata": {
        "id": "SF81PVAUHPeW"
      },
      "source": [
        "## Ada yang aneh? Apakah fungsi dari kode **input()**?\n",
        "\n"
      ]
    },
    {
      "cell_type": "code",
      "execution_count": null,
      "metadata": {
        "id": "hnUARA6dHTgm"
      },
      "outputs": [],
      "source": []
    },
    {
      "cell_type": "markdown",
      "metadata": {
        "id": "bML5VYfLHyMm"
      },
      "source": [
        "## Apakah tipe data bawaan dari **input()**?"
      ]
    },
    {
      "cell_type": "code",
      "execution_count": null,
      "metadata": {
        "id": "-Tj5Ri_IKY0T"
      },
      "outputs": [],
      "source": []
    },
    {
      "cell_type": "markdown",
      "metadata": {
        "id": "dgYBT6dzHT5t"
      },
      "source": [
        "## Apakah fungsi dari **end=' '**?"
      ]
    },
    {
      "cell_type": "code",
      "execution_count": null,
      "metadata": {
        "id": "eXsOtcaiHcN0"
      },
      "outputs": [],
      "source": []
    },
    {
      "cell_type": "markdown",
      "metadata": {
        "id": "hbs-kHNxHfM-"
      },
      "source": [
        "## Apakah ada cara lain untuk mendapatkan input dari pengguna selain menggunakan **input()** ? Contohkan!"
      ]
    },
    {
      "cell_type": "code",
      "execution_count": null,
      "metadata": {
        "id": "KEpYTUIbHetl"
      },
      "outputs": [],
      "source": []
    },
    {
      "cell_type": "markdown",
      "metadata": {
        "id": "uVd2pzOUHoGX"
      },
      "source": [
        "## [Referensi](https://www.programiz.com/python-programming/input-output-import)\n"
      ]
    },
    {
      "cell_type": "markdown",
      "metadata": {
        "id": "M_KPDHSGHgo2"
      },
      "source": [
        "# Exercise 12: Prompting People\n"
      ]
    },
    {
      "cell_type": "markdown",
      "metadata": {
        "id": "h_plF8hhHgo2"
      },
      "source": [
        "## Jelaskan maksud kode per baris"
      ]
    },
    {
      "cell_type": "code",
      "execution_count": null,
      "metadata": {
        "id": "sNJCAqkpHgo2"
      },
      "outputs": [],
      "source": [
        "age = input(\"How old are you? \")\n",
        "height = input(\"How tall are you? \")\n",
        "weight = input(\"How much do you weight? \")\n",
        "\n",
        "print(f\"So, you're {age} old, {height} tall and {weight} heavy.\")"
      ]
    },
    {
      "cell_type": "markdown",
      "metadata": {
        "id": "lB26TUnSHgo2"
      },
      "source": [
        "## Ketika kita memasukkan nilai ke dalam ( ), akan menghasilkan apa?"
      ]
    },
    {
      "cell_type": "code",
      "execution_count": null,
      "metadata": {
        "id": "zGht_qGdHgo3"
      },
      "outputs": [],
      "source": []
    },
    {
      "cell_type": "markdown",
      "metadata": {
        "id": "8UoYDZfLMkBw"
      },
      "source": [
        "## Apakah cara seperti ini dapat dilakukan? Praktekkan!\n",
        "\n",
        "\n",
        "```\n",
        "print(\"How old are you?\" , input())?\n",
        "```\n",
        "\n"
      ]
    },
    {
      "cell_type": "markdown",
      "metadata": {
        "id": "GnrqihmQIF_c"
      },
      "source": [
        "# Exercise 13: Parameters, Unpacking, Variables\n",
        "Apa yang akan kita lakukan sekarang adalah menulis script yang dapat menerima argumen"
      ]
    },
    {
      "cell_type": "markdown",
      "metadata": {
        "id": "4sIKJ-BGIF_d"
      },
      "source": [
        "## Jelaskan maksud kode per baris (jangan jalankan di .ipynb)"
      ]
    },
    {
      "cell_type": "code",
      "execution_count": null,
      "metadata": {
        "id": "jlw9cjunIF_d"
      },
      "outputs": [],
      "source": [
        "from sys import argv\n",
        "\n",
        "# read the WYSS section for how to run this\n",
        "script, first, second, third = argv\n",
        "\n",
        "print(\"The script is called:\", script)\n",
        "print(\"Your first variable is:\", first)\n",
        "print(\"Your second variable is:\", second)\n",
        "print(\"Your third variable is:\", third)"
      ]
    },
    {
      "cell_type": "markdown",
      "metadata": {
        "id": "1PbBp9dZOoxt"
      },
      "source": [
        "## Buatlah file dengan nama ex13.py, kemudian salin kode di atas. Pindah ke direktori file, kemudian jalankan kode di bawah. Apakah berhasil? Apa yang terjadi?\n",
        "\n",
        "\n",
        "```\n",
        "python .\\ex13.py Kalian Semua Keren\n",
        "```\n",
        "\n"
      ]
    },
    {
      "cell_type": "markdown",
      "metadata": {
        "id": "Kv4GsnfbQNoX"
      },
      "source": [
        "## Coba masukkan kode seperti di atas, namun kurangi atau lebihkan argumen yang kalian berikan. Apa yang terjadi?"
      ]
    },
    {
      "cell_type": "code",
      "execution_count": null,
      "metadata": {
        "id": "-lZT5pVQQCs8"
      },
      "outputs": [],
      "source": []
    },
    {
      "cell_type": "markdown",
      "metadata": {
        "id": "zvp_dwvuQcBy"
      },
      "source": [
        "## Buatlah suatu program yang menerima argv dan input secara bersamaan!"
      ]
    },
    {
      "cell_type": "code",
      "execution_count": null,
      "metadata": {
        "id": "u8R_7RFIQfnB"
      },
      "outputs": [],
      "source": []
    },
    {
      "cell_type": "markdown",
      "metadata": {
        "id": "gJ74CWaDPtZM"
      },
      "source": [
        "## Apakah library dan module adalah dua hal yang sama?"
      ]
    },
    {
      "cell_type": "code",
      "execution_count": null,
      "metadata": {
        "id": "oV8ul5YhIF_e"
      },
      "outputs": [],
      "source": []
    },
    {
      "cell_type": "markdown",
      "metadata": {
        "id": "3tMQgwybJMPH"
      },
      "source": [
        "# Exercise 14: Prompting And Passing\n",
        "\n"
      ]
    },
    {
      "cell_type": "markdown",
      "metadata": {
        "id": "1m2uU1tRJMPH"
      },
      "source": [
        "## Jelaskan maksud kode per baris (jangan jalankan di .ipynb)"
      ]
    },
    {
      "cell_type": "code",
      "execution_count": null,
      "metadata": {
        "id": "3-s1CdOpJMPI"
      },
      "outputs": [],
      "source": [
        "from sys import argv\n",
        "\n",
        "script, user_name = argv\n",
        "prompt = '> '\n",
        "\n",
        "print(f\"Hi {user_name}, I'm the {script} script.\")\n",
        "print(\"I'd like to ask you a few questions.\")\n",
        "print(f\"Do you like me {user_name}?\")\n",
        "likes = input(prompt)\n",
        "\n",
        "print(f\"Where do you live {user_name}?\")\n",
        "lives = input(prompt)\n",
        "\n",
        "print(\"What kind of computer do you have?\")\n",
        "computer = input(prompt)\n",
        "\n",
        "print(f\"\"\"\n",
        "Alright, so you said {likes} about liking me.\n",
        "You live in {lives}. Not sure where that is.\n",
        "And you have a {computer} computer. Nice.\n",
        "\"\"\")"
      ]
    },
    {
      "cell_type": "markdown",
      "metadata": {
        "id": "UqP8fxwaJMPI"
      },
      "source": [
        "## Apakah kalian bisa menjalankan kode di atas? Bagaimana caranya?\n",
        "\n"
      ]
    },
    {
      "cell_type": "code",
      "execution_count": null,
      "metadata": {
        "id": "Q9PXAdCyJMPJ"
      },
      "outputs": [],
      "source": []
    },
    {
      "cell_type": "markdown",
      "metadata": {
        "id": "6-phWpn-Ryjv"
      },
      "source": [
        "## Editlah kode di atas. Tambahkan argumen **last_name** dan gunakan itu pada script ketika kalian menjalankan programnya di Terminal/CMD! \n",
        "\n",
        "contohnya:\n",
        "\n",
        "\n",
        "```\n",
        "python ex14.py dimas wahyu\n",
        "```\n",
        "\n"
      ]
    },
    {
      "cell_type": "code",
      "execution_count": null,
      "metadata": {
        "id": "QxrvB4DMRyUF"
      },
      "outputs": [],
      "source": []
    },
    {
      "cell_type": "markdown",
      "metadata": {
        "id": "v80B5ZQ9KTNy"
      },
      "source": [
        "# Exercise 15: Reading Files\n",
        "Hati-hati, dapat menghapus berkas kalian. Jalankan pada cmd/terminal.\n",
        "\n",
        "Latihan ini melibatkan penulisan dua file. Salah satunya adalah file ex15.py biasa yang akan Anda jalankan, tetapi yang lain diberi nama ex15_sample.txt. File kedua ini bukan skrip tetapi file teks biasa yang akan kita baca."
      ]
    },
    {
      "cell_type": "markdown",
      "metadata": {
        "id": "Saj6T6_gc_TS"
      },
      "source": [
        "## file ex15_sample.txt (buat di notepad)\n",
        "\n",
        "\n",
        "\n",
        "```\n",
        "This is stuff I typed into a file.\n",
        "It is really cool stuff.\n",
        "Lots and lots of fun to have in here.\n",
        "```\n",
        "\n"
      ]
    },
    {
      "cell_type": "markdown",
      "metadata": {
        "id": "gi7G4a_uKTNy"
      },
      "source": [
        "## Jelaskan maksud kode per baris (jangan di .ipynb, jalankan di script mode)"
      ]
    },
    {
      "cell_type": "code",
      "execution_count": null,
      "metadata": {
        "id": "kzGgrHDhKTNy"
      },
      "outputs": [],
      "source": [
        "from sys import argv\n",
        "\n",
        "script, filename = argv\n",
        "\n",
        "txt = open(filename)\n",
        "\n",
        "print(f\"Here's your file {filename}:\")\n",
        "print(txt.read())\n",
        "\n",
        "print(\"Type the filename again:\")\n",
        "file_again = input(\"> \")\n",
        "\n",
        "txt_again = open(file_again)\n",
        "\n",
        "print(txt_again.read())"
      ]
    },
    {
      "cell_type": "markdown",
      "metadata": {
        "id": "LDSAJq7qdg4C"
      },
      "source": [
        "## [Referensi](https://www.w3schools.com/python/ref_func_open.asp)"
      ]
    },
    {
      "cell_type": "markdown",
      "metadata": {
        "id": "sj88di8YLw7y"
      },
      "source": [
        "# Exercise 16: Reading And Writing Files\n",
        "Jangan jalankan di .ipynb\n",
        "\n",
        "\n",
        "```\n",
        "• close – Closes the file. Like File->Save.. in your editor.\n",
        "• read – Reads the contents of the file. You can assign the result to a variable.\n",
        "• readline – Reads just one line of a text file.\n",
        "• truncate – Empties the file. Watch out if you care about the file.\n",
        "• write('stuff') – Writes ”stuff” to the file.\n",
        "• seek(0) – Move the read/write location to the beginning of the file.\n",
        "```\n",
        "\n"
      ]
    },
    {
      "cell_type": "markdown",
      "metadata": {
        "id": "0lGOPD_ggxoc"
      },
      "source": [
        "## Buatlah file test.txt, dengan isi,\n",
        "\n",
        "\n",
        "```\n",
        "Halo ini hanya contoh\n",
        "ini baris kedua\n",
        "ini baris ketiga\n",
        "```\n",
        "\n"
      ]
    },
    {
      "cell_type": "markdown",
      "metadata": {
        "id": "i691Sf8ULw7z"
      },
      "source": [
        "## Jelaskan maksud kode per baris (jangan jalankan di file .ipynb)"
      ]
    },
    {
      "cell_type": "code",
      "execution_count": null,
      "metadata": {
        "id": "keEOS60OLw7z"
      },
      "outputs": [],
      "source": [
        "from sys import argv\n",
        "\n",
        "script, filename = argv\n",
        "\n",
        "print(f\"We're going to erase {filename}.\")\n",
        "print(\"If you don't want that, hit CTRL-C (^C).\")\n",
        "print(\"If you do want that, hit RETURN.\")\n",
        "\n",
        "input(\"?\")\n",
        "\n",
        "print(\"Opening the file...\")\n",
        "target = open(filename, 'w') # baris 8\n",
        "\n",
        "print(\"Truncating the file. Goodbye!\")\n",
        "target.truncate()\n",
        "\n",
        "print(\"Now I'm going to ask you for three lines.\")\n",
        "\n",
        "line1 = input(\"line1: \")\n",
        "line2 = input(\"line2: \")\n",
        "line3 = input(\"line3: \")\n",
        "\n",
        "print(\"I'm going to write these to the file.\")\n",
        "\n",
        "target.write(line1)\n",
        "target.write(\"\\n\")\n",
        "target.write(line2)\n",
        "target.write(\"\\n\")\n",
        "target.write(line3)\n",
        "target.write(\"\\n\")\n",
        "\n",
        "print(\"And finally, we close it.\")\n",
        "target.close()\n"
      ]
    },
    {
      "cell_type": "markdown",
      "metadata": {
        "id": "SDrAKq49hzAf"
      },
      "source": [
        "## Lihat pada baris 8. Cari tahu kenapa kita harus menambhkan 'w' sebagai parameter tambahan untuk membuka!"
      ]
    },
    {
      "cell_type": "code",
      "execution_count": null,
      "metadata": {
        "id": "5zVL5r_ziC8M"
      },
      "outputs": [],
      "source": []
    },
    {
      "cell_type": "markdown",
      "metadata": {
        "id": "F48ZetqqiDOu"
      },
      "source": [
        "## Selain menggunakan 'w', apa saja yang dapat kita gunakan?"
      ]
    },
    {
      "cell_type": "code",
      "execution_count": null,
      "metadata": {
        "id": "EPpwbkyfiGKc"
      },
      "outputs": [],
      "source": []
    },
    {
      "cell_type": "markdown",
      "metadata": {
        "id": "Q4UYU_geiZLk"
      },
      "source": [
        "## Terlalu banyak pengulangan dalam file ini. Gunakan string, format, dan escape character untuk mencetak line1, line2, dan line3 hanya dengan satu perintah target.write(), bukan enam."
      ]
    },
    {
      "cell_type": "code",
      "execution_count": null,
      "metadata": {
        "id": "-ls0c339iexy"
      },
      "outputs": [],
      "source": []
    },
    {
      "cell_type": "markdown",
      "metadata": {
        "id": "3dVH_eyRixtG"
      },
      "source": [
        "## Tulis skrip yang mirip dengan latihan terakhir yang menggunakan read dan argv untuk membaca file yang baru saja Anda buat."
      ]
    },
    {
      "cell_type": "code",
      "execution_count": null,
      "metadata": {
        "id": "6FTboT9Ri1C1"
      },
      "outputs": [],
      "source": []
    },
    {
      "cell_type": "markdown",
      "metadata": {
        "id": "nyeQfdj8hl4g"
      },
      "source": [
        "## [Referensi](https://www.programiz.com/python-programming/file-operation)"
      ]
    },
    {
      "cell_type": "markdown",
      "metadata": {
        "id": "5y4yBvNBL2RZ"
      },
      "source": [
        "# Exercise 17: More Files\n",
        "Jangan jalankan di .ipynb"
      ]
    },
    {
      "cell_type": "markdown",
      "metadata": {
        "id": "U_zYabFajdqJ"
      },
      "source": [
        "## Langkah pertama, buka cmd. Kemudian, buat file dengan cara\n",
        "`echo \"This is a test file.\" > test.txt`"
      ]
    },
    {
      "cell_type": "markdown",
      "metadata": {
        "id": "YszfeO_oj9pd"
      },
      "source": [
        "## Kemudian lihat file yang telah dibuat, dengan cara\n",
        "`cat test.txt`"
      ]
    },
    {
      "cell_type": "markdown",
      "metadata": {
        "id": "GQA3oqCcLvTD"
      },
      "source": [
        "## Jelaskan maksud kode per baris, dan jalankan!"
      ]
    },
    {
      "cell_type": "code",
      "execution_count": null,
      "metadata": {
        "id": "3g445a-VLvTD"
      },
      "outputs": [],
      "source": [
        "from os.path import exists\n",
        "from sys import argv\n",
        "\n",
        "script, from_file, to_file = argv\n",
        "\n",
        "print(f\"Copying from {from_file} to {to_file}\")\n",
        "\n",
        "# we could do these two on one line too, how?\n",
        "in_file = open(from_file)\n",
        "indata = in_file.read()\n",
        "\n",
        "print(f\"The input file is {len(indata)} bytes long\")\n",
        "\n",
        "print(f\"Does the output file exists? {exists(to_file)}\")\n",
        "print(\"Ready, hit RETURN to continue, CTRL-C to abort.\")\n",
        "input()\n",
        "\n",
        "out_file = open(to_file, 'w')\n",
        "out_file.write(indata)\n",
        "\n",
        "print(\"Alright, all done.\")\n",
        "\n",
        "out_file.close()\n",
        "in_file.close()\n"
      ]
    },
    {
      "cell_type": "markdown",
      "metadata": {
        "id": "RnNNwuZGLvTE"
      },
      "source": [
        "## Apakah kalian bisa membuat kode di atas menjadi lebih ringkas? Misanya satu baris? Coba yaaa!\n",
        "\n"
      ]
    },
    {
      "cell_type": "code",
      "execution_count": null,
      "metadata": {
        "id": "CseAjMRiLvTE"
      },
      "outputs": [],
      "source": []
    },
    {
      "cell_type": "markdown",
      "metadata": {
        "id": "m7XKk5Q3LvTE"
      },
      "source": [
        "## Cari tahu mengapa Anda harus menulis out_file.close() dalam kode."
      ]
    },
    {
      "cell_type": "code",
      "execution_count": null,
      "metadata": {
        "id": "jvFYF_mgLvTE"
      },
      "outputs": [],
      "source": []
    },
    {
      "cell_type": "markdown",
      "metadata": {
        "id": "U-T_614wMz9u"
      },
      "source": [
        "# Exercise 18: Names, Variables, Code, Functions"
      ]
    },
    {
      "cell_type": "markdown",
      "metadata": {
        "id": "57a96pgVMz9v"
      },
      "source": [
        "## Jelaskan maksud kode per baris"
      ]
    },
    {
      "cell_type": "code",
      "execution_count": null,
      "metadata": {
        "id": "OID-aC-GMz9v"
      },
      "outputs": [],
      "source": [
        "# this one is like your scripts with argv\n",
        "def print_two(*args):\n",
        "    arg1, arg2 = args\n",
        "    print(f\"arg1: {arg1}, arg2: {arg2}\")\n",
        "\n",
        "\n",
        "# ok, that *args is actually pointless, we can just do this\n",
        "def print_two_again(arg1, arg2):\n",
        "    print(f\"arg1: {arg1}, arg2: {arg2}\")\n",
        "\n",
        "\n",
        "# this just takes one argument\n",
        "def print_one(arg1):\n",
        "    print(f\"arg1: {arg1}\")\n",
        "\n",
        "\n",
        "# this one takes no arguments\n",
        "def print_none():\n",
        "    print(\"I got nothin'.\")\n",
        "\n",
        "\n",
        "print_two(\"Zed\", \"Shaw\")\n",
        "print_two_again(\"Zed\", \"Shaw\")\n",
        "print_one(\"First!\")\n",
        "print_none()"
      ]
    },
    {
      "cell_type": "markdown",
      "metadata": {
        "id": "s7LO-nIlnEbj"
      },
      "source": [
        "## Write these checks on an index card and keep it by you while you complete the rest of these exercises\n",
        "\n",
        "1. Did you start your function definition with def?\n",
        "2. Does your function name have only characters and _ (underscore) characters?\n",
        "3. Did you put an open parenthesis ( right after the function name?\n",
        "4. Did you put your arguments after the parenthesis ( separated by commas?\n",
        "5. Did you make each argument unique (meaning no duplicated names)?\n",
        "6. Did you put a close parenthesis and a colon ): after the arguments?\n",
        "7. Did you indent all lines of code you want in the function four spaces? No more, no less.\n",
        "8. Did you ”end” your function by going back to writing with no indent (dedenting we call it)?"
      ]
    },
    {
      "cell_type": "code",
      "execution_count": null,
      "metadata": {
        "id": "ial6_2kpn1e6"
      },
      "outputs": [],
      "source": []
    },
    {
      "cell_type": "markdown",
      "metadata": {
        "id": "0UbQjWren1p3"
      },
      "source": [
        "## When you run (”use” or ”call”) a function, check these things:\n",
        "\n",
        "1. Did you call/use/run this function by typing its name?\n",
        "2. Did you put the ( character after the name to run it?\n",
        "3. Did you put the values you want into the parenthesis separated by commas?\n",
        "4. Did you end the function call with a ) character?"
      ]
    },
    {
      "cell_type": "code",
      "execution_count": null,
      "metadata": {
        "id": "GTJid0OVn6Fr"
      },
      "outputs": [],
      "source": []
    },
    {
      "cell_type": "markdown",
      "metadata": {
        "id": "qFQohpDqo8qm"
      },
      "source": [
        "## Warm Up"
      ]
    },
    {
      "cell_type": "markdown",
      "metadata": {
        "id": "vsewvJxzo8qn"
      },
      "source": [
        "#### LESSER OF TWO EVENS: Write a function that returns the lesser of two given numbers *if* both numbers are even, but returns the greater if one or both numbers are odd\n",
        "    lesser_of_two_evens(2,4) --> 2\n",
        "    lesser_of_two_evens(2,5) --> 5"
      ]
    },
    {
      "cell_type": "code",
      "execution_count": null,
      "metadata": {
        "collapsed": true,
        "id": "xPzFQ9pXo8qn"
      },
      "outputs": [],
      "source": [
        "def lesser_of_two_evens(a,b):\n",
        "    pass"
      ]
    },
    {
      "cell_type": "code",
      "execution_count": null,
      "metadata": {
        "collapsed": true,
        "id": "UKimQPrKo8qp"
      },
      "outputs": [],
      "source": [
        "# Check\n",
        "lesser_of_two_evens(2,4)"
      ]
    },
    {
      "cell_type": "code",
      "execution_count": null,
      "metadata": {
        "collapsed": true,
        "id": "Nr63F3ago8qp"
      },
      "outputs": [],
      "source": [
        "# Check\n",
        "lesser_of_two_evens(2,5)"
      ]
    },
    {
      "cell_type": "markdown",
      "metadata": {
        "id": "7sPFlCN6o8qq"
      },
      "source": [
        "#### ANIMAL CRACKERS: Write a function takes a two-word string and returns True if both words begin with same letter\n",
        "    animal_crackers('Levelheaded Llama') --> True\n",
        "    animal_crackers('Crazy Kangaroo') --> False"
      ]
    },
    {
      "cell_type": "code",
      "execution_count": null,
      "metadata": {
        "collapsed": true,
        "id": "BfQPLEybo8qr"
      },
      "outputs": [],
      "source": [
        "def animal_crackers(text):\n",
        "    pass"
      ]
    },
    {
      "cell_type": "code",
      "execution_count": null,
      "metadata": {
        "collapsed": true,
        "id": "0x_I-Zxoo8qt"
      },
      "outputs": [],
      "source": [
        "# Check\n",
        "animal_crackers('Levelheaded Llama')"
      ]
    },
    {
      "cell_type": "code",
      "execution_count": null,
      "metadata": {
        "collapsed": true,
        "id": "pW8KGgUZo8qu"
      },
      "outputs": [],
      "source": [
        "# Check\n",
        "animal_crackers('Crazy Kangaroo')"
      ]
    },
    {
      "cell_type": "markdown",
      "metadata": {
        "id": "Y7O1mkBho8qv"
      },
      "source": [
        "#### MAKES TWENTY: Given two integers, return True if the sum of the integers is 20 *or* if one of the integers is 20. If not, return False\n",
        "\n",
        "    makes_twenty(20,10) --> True\n",
        "    makes_twenty(12,8) --> True\n",
        "    makes_twenty(2,3) --> False"
      ]
    },
    {
      "cell_type": "code",
      "execution_count": null,
      "metadata": {
        "collapsed": true,
        "id": "drj0vqvUo8qw"
      },
      "outputs": [],
      "source": [
        "def makes_twenty(n1,n2):\n",
        "    pass"
      ]
    },
    {
      "cell_type": "code",
      "execution_count": null,
      "metadata": {
        "collapsed": true,
        "id": "mcU3FzAmo8qx"
      },
      "outputs": [],
      "source": [
        "# Check\n",
        "makes_twenty(20,10)"
      ]
    },
    {
      "cell_type": "code",
      "execution_count": null,
      "metadata": {
        "collapsed": true,
        "id": "6XKDf-Pyo8qy"
      },
      "outputs": [],
      "source": [
        "# Check\n",
        "makes_twenty(2,3)"
      ]
    },
    {
      "cell_type": "markdown",
      "metadata": {
        "id": "maxVMDnRo8qz"
      },
      "source": [
        "## Problems"
      ]
    },
    {
      "cell_type": "markdown",
      "metadata": {
        "id": "PjN0IT7xo8qz"
      },
      "source": [
        "#### OLD MACDONALD: Write a function that capitalizes the first and fourth letters of a name\n",
        "     \n",
        "    old_macdonald('macdonald') --> MacDonald\n",
        "    \n",
        "Note: `'macdonald'.capitalize()` returns `'Macdonald'`"
      ]
    },
    {
      "cell_type": "code",
      "execution_count": null,
      "metadata": {
        "collapsed": true,
        "id": "YjlbOv0Lo8q0"
      },
      "outputs": [],
      "source": [
        "def old_macdonald(name):\n",
        "    pass"
      ]
    },
    {
      "cell_type": "code",
      "execution_count": null,
      "metadata": {
        "collapsed": true,
        "id": "PmY98NIAo8q0"
      },
      "outputs": [],
      "source": [
        "# Check\n",
        "old_macdonald('macdonald')"
      ]
    },
    {
      "cell_type": "markdown",
      "metadata": {
        "id": "BkocM0tHo8q0"
      },
      "source": [
        "#### MASTER YODA: Given a sentence, return a sentence with the words reversed\n",
        "\n",
        "    master_yoda('I am home') --> 'home am I'\n",
        "    master_yoda('We are ready') --> 'ready are We'\n",
        "    \n",
        "Note: The .join() method may be useful here. The .join() method allows you to join together strings in a list with some connector string. For example, some uses of the .join() method:\n",
        "\n",
        "    >>> \"--\".join(['a','b','c'])\n",
        "    >>> 'a--b--c'\n",
        "\n",
        "This means if you had a list of words you wanted to turn back into a sentence, you could just join them with a single space string:\n",
        "\n",
        "    >>> \" \".join(['Hello','world'])\n",
        "    >>> \"Hello world\""
      ]
    },
    {
      "cell_type": "code",
      "execution_count": null,
      "metadata": {
        "collapsed": true,
        "id": "f3IqrMmco8q1"
      },
      "outputs": [],
      "source": [
        "def master_yoda(text):\n",
        "    pass"
      ]
    },
    {
      "cell_type": "code",
      "execution_count": null,
      "metadata": {
        "collapsed": true,
        "id": "uiuG8Oceo8q1"
      },
      "outputs": [],
      "source": [
        "# Check\n",
        "master_yoda('I am home')"
      ]
    },
    {
      "cell_type": "code",
      "execution_count": null,
      "metadata": {
        "collapsed": true,
        "id": "R4GdNfnjo8q2"
      },
      "outputs": [],
      "source": [
        "# Check\n",
        "master_yoda('We are ready')"
      ]
    },
    {
      "cell_type": "markdown",
      "metadata": {
        "id": "f-PsSEIEo8q2"
      },
      "source": [
        "#### ALMOST THERE: Given an integer n, return True if n is within 10 of either 100 or 200\n",
        "\n",
        "    almost_there(90) --> True\n",
        "    almost_there(104) --> True\n",
        "    almost_there(150) --> False\n",
        "    almost_there(209) --> True\n",
        "    \n",
        "NOTE: `abs(num)` returns the absolute value of a number"
      ]
    },
    {
      "cell_type": "code",
      "execution_count": null,
      "metadata": {
        "collapsed": true,
        "id": "0Zxlzhyko8q2"
      },
      "outputs": [],
      "source": [
        "def almost_there(n):\n",
        "    pass"
      ]
    },
    {
      "cell_type": "code",
      "execution_count": null,
      "metadata": {
        "collapsed": true,
        "id": "pcXeiqdOo8q3"
      },
      "outputs": [],
      "source": [
        "# Check\n",
        "almost_there(104)"
      ]
    },
    {
      "cell_type": "code",
      "execution_count": null,
      "metadata": {
        "collapsed": true,
        "id": "T_H4X0JSo8q3"
      },
      "outputs": [],
      "source": [
        "# Check\n",
        "almost_there(150)"
      ]
    },
    {
      "cell_type": "code",
      "execution_count": null,
      "metadata": {
        "collapsed": true,
        "id": "wFLfckSzo8q3"
      },
      "outputs": [],
      "source": [
        "# Check\n",
        "almost_there(209)"
      ]
    },
    {
      "cell_type": "markdown",
      "metadata": {
        "id": "6ONWCJguNCh5"
      },
      "source": [
        "# Exercise 19: Functions And Variables"
      ]
    },
    {
      "cell_type": "markdown",
      "metadata": {
        "id": "erJyCZYQNCh6"
      },
      "source": [
        "## Jelaskan maksud kode per baris"
      ]
    },
    {
      "cell_type": "code",
      "execution_count": null,
      "metadata": {
        "id": "AqRXzSEZNCh7"
      },
      "outputs": [],
      "source": [
        "def cheese_and_crackers(cheese_count, boxes_of_crackers):\n",
        "    print(f\"You have {cheese_count} cheeses!\")\n",
        "    print(f\"You have {boxes_of_crackers} boxes of crackers!\")\n",
        "    print(\"Man that's enought for a party!\")\n",
        "    print(\"Get a blanket.\\n\")\n",
        "\n",
        "\n",
        "print(\"We can just give the function numbers directly:\")\n",
        "cheese_and_crackers(20, 30)\n",
        "\n",
        "print(\"OR, we can use variables from our script:\")\n",
        "amount_of_cheese = 10\n",
        "amount_of_crackers = 50\n",
        "\n",
        "cheese_and_crackers(amount_of_cheese, amount_of_crackers)\n",
        "\n",
        "print(\"We can even do math inside too:\")\n",
        "cheese_and_crackers(10 + 20, 5 + 6)\n",
        "\n",
        "print(\"And we can combine the two, variables and math:\")\n",
        "cheese_and_crackers(amount_of_cheese + 100, amount_of_crackers + 1000)\n"
      ]
    },
    {
      "cell_type": "markdown",
      "metadata": {
        "id": "AOq96W3oNe92"
      },
      "source": [
        "# Exercise 20: Functions And Files\n",
        "Jangan jalankan di .ipynb"
      ]
    },
    {
      "cell_type": "markdown",
      "metadata": {
        "id": "IPZJd0gaNe92"
      },
      "source": [
        "## Jelaskan maksud kode per baris\n",
        "buat file baru, beri nama ex20.py"
      ]
    },
    {
      "cell_type": "code",
      "execution_count": null,
      "metadata": {
        "id": "tlKKcKOiNe93"
      },
      "outputs": [],
      "source": [
        "from sys import argv\n",
        "\n",
        "script, input_file = argv\n",
        "\n",
        "\n",
        "def print_all(f):\n",
        "    print(f.read())\n",
        "\n",
        "\n",
        "def rewind(f):\n",
        "    f.seek(0)\n",
        "\n",
        "\n",
        "def print_a_line(line_count, f):\n",
        "    print(line_count, f.readline())\n",
        "\n",
        "\n",
        "current_file = open(input_file)\n",
        "\n",
        "print(\"First let's print the whole file:\\n\")\n",
        "\n",
        "print_all(current_file)\n",
        "\n",
        "print(\"Now let's rewind, kind of like a tape.\")\n",
        "\n",
        "rewind(current_file)\n",
        "\n",
        "print(\"Let's print three lines:\")\n",
        "\n",
        "current_line = 1\n",
        "print_a_line(current_line, current_file)\n",
        "\n",
        "current_line = current_line + 1\n",
        "print_a_line(current_line, current_file)\n",
        "\n",
        "current_line = current_line + 1\n",
        "print_a_line(current_line, current_file)\n"
      ]
    },
    {
      "cell_type": "markdown",
      "metadata": {
        "id": "NT5JtcNPqiaq"
      },
      "source": [
        "Jalankan code dengan cara\n",
        "\n",
        "\n",
        "```\n",
        "python ex20.py test.txt\n",
        "```\n",
        "\n"
      ]
    }
  ],
  "metadata": {
    "colab": {
      "collapsed_sections": [
        "ZFnnRzziGmWJ",
        "M_KPDHSGHgo2"
      ],
      "provenance": []
    },
    "kernelspec": {
      "display_name": "Python 3.10.7 64-bit (microsoft store)",
      "language": "python",
      "name": "python3"
    },
    "language_info": {
      "codemirror_mode": {
        "name": "ipython",
        "version": 3
      },
      "file_extension": ".py",
      "mimetype": "text/x-python",
      "name": "python",
      "nbconvert_exporter": "python",
      "pygments_lexer": "ipython3",
      "version": "3.10.7"
    },
    "vscode": {
      "interpreter": {
        "hash": "65a440aeac0c89e2af7569e0aa53b64434c4b69eb6285e2b0d174d9bca190d54"
      }
    }
  },
  "nbformat": 4,
  "nbformat_minor": 0
}
